{
 "cells": [
  {
   "cell_type": "markdown",
   "metadata": {
    "_uuid": "726661972b09b03a31d424ef02a9be0cd284d81b",
    "id": "DzunzuFFJRiI"
   },
   "source": [
    " # <div style=\"text-align: center\">Linear Algebra for Data Scientists\n",
    "<div style=\"text-align: center\">\n",
    "Having a basic knowledge of linear algebra is one of the requirements for any data scientist. In this tutorial we will try to cover all the necessary concepts related to linear algebra."
   ]
  },
  {
   "cell_type": "markdown",
   "metadata": {
    "_uuid": "2a01be35950f7a117fc6700e866de3bf5a3ea6b9",
    "id": "S5L0W9fzJRiK"
   },
   "source": [
    " <a id=\"top\"></a> <br>\n",
    "## Notebook  Content\n",
    "1. [Introduction](#1)\n",
    "1. [What is Linear Algebra?](#2)\n",
    "1. [Notation ](#2)\n",
    "1. [Matrix Multiplication](#3)\n",
    "    1. [Vector-Vector Products](#31)\n",
    "    1. [Outer Product of Two Vectors](#32)\n",
    "    1. [Matrix-Vector Products](#33)\n",
    "    1. [Matrix-Matrix Products](#34)\n",
    "1. [Identity Matrix](#4)\n",
    "1. [Diagonal Matrix](#5)\n",
    "1. [Transpose of a Matrix](#6)\n",
    "1. [Symmetric Metrices](#7)\n",
    "1. [The Trace](#8)\n",
    "1. [Norms](#9)\n",
    "1. [Linear Independence and Rank](#10)\n",
    "1. [Subtraction and Addition of Metrices](#11)\n",
    "    1. [Inverse](#111)\n",
    "1. [Orthogonal Matrices](#12)\n",
    "1. [Range and Nullspace of a Matrix](#13)\n",
    "1. [Determinant](#14)\n"
   ]
  },
  {
   "cell_type": "markdown",
   "metadata": {
    "_uuid": "b18443661b6d30ffea2150fa74d44d62e14ae952",
    "id": "iSjDy6-7JRiK"
   },
   "source": [
    "<a id=\"1\"></a> <br>\n",
    "#  1-Introduction\n",
    "This is the third step of the [10 Steps to Become a Data Scientist](https://www.kaggle.com/mjbahmani/10-steps-to-become-a-data-scientist).\n",
    "we will cover following topic:\n",
    "1. notation\n",
    "1. Matrix Multiplication\n",
    "1. Identity Matrix\n",
    "1. Diagonal Matrix\n",
    "1. Transpose of a Matrix\n",
    "1. The Trace\n",
    "1. Norms\n",
    "1. Tensors\n",
    "1. Hyperplane\n",
    "1. Eigenvalues and Eigenvectors\n",
    "\n",
    "## What is linear algebra?\n",
    "**Linear algebra** is the branch of mathematics that deals with **vector spaces**. good understanding of Linear Algebra is intrinsic to analyze Machine Learning algorithms, especially for **Deep Learning** where so much happens behind the curtain.you have my word that I will try to keep mathematical formulas & derivations out of this completely mathematical topic and I try to cover all of subject that you need as data scientist.\n",
    "<img src='https://camo.githubusercontent.com/e42ea0e40062cc1e339a6b90054bfbe62be64402/68747470733a2f2f63646e2e646973636f72646170702e636f6d2f6174746163686d656e74732f3339313937313830393536333530383733382f3434323635393336333534333331383532382f7363616c61722d766563746f722d6d61747269782d74656e736f722e706e67' height=200 width=700>\n",
    "[image credit: https://hadrienj.github.io/posts/Deep-Learning-Book-Series-2.1-Scalars-Vectors-Matrices-and-Tensors/ ](https://hadrienj.github.io/posts/Deep-Learning-Book-Series-2.1-Scalars-Vectors-Matrices-and-Tensors/)\n",
    " <a id=\"top\"></a> <br>"
   ]
  },
  {
   "cell_type": "markdown",
   "metadata": {
    "_uuid": "9008e99d1ebea16694d75bfa1ba5addef515198e",
    "id": "Xuue2r2cJRiK"
   },
   "source": [
    "<a id=\"11\"></a> <br>\n",
    "## 1-1 Import"
   ]
  },
  {
   "cell_type": "code",
   "execution_count": 59,
   "metadata": {
    "_kg_hide-input": true,
    "_uuid": "223d7c576e665b2bbb83894e4f24346738e95877",
    "id": "CtYp5jWCJRiL"
   },
   "outputs": [],
   "source": [
    "import matplotlib.patches as patch\n",
    "import matplotlib.pyplot as plt\n",
    "from scipy.stats import norm\n",
    "from scipy import linalg\n",
    "from numpy import poly1d\n",
    "from sklearn import svm\n",
    "import tensorflow as tf\n",
    "import pandas as pd\n",
    "import numpy as np\n",
    "import glob\n",
    "import sys\n",
    "import os"
   ]
  },
  {
   "cell_type": "markdown",
   "metadata": {
    "_uuid": "286ce03c993f8784863f6ad59298c869f8a544b0",
    "id": "j2wrfTSqJRiL"
   },
   "source": [
    "<a id=\"12\"></a> <br>\n",
    "##  1-2 Setup"
   ]
  },
  {
   "cell_type": "code",
   "execution_count": 60,
   "metadata": {
    "_kg_hide-input": true,
    "_uuid": "480928dbf26d5ef6ac7a1ddfe59b51a5eb95338a",
    "id": "Tn4Q1RN-JRiL"
   },
   "outputs": [],
   "source": [
    "%matplotlib inline\n",
    "%precision 4\n",
    "plt.style.use('ggplot')\n",
    "np.set_printoptions(suppress=True)"
   ]
  },
  {
   "cell_type": "markdown",
   "metadata": {
    "_uuid": "e6824a84cbdfb6dc17200c495101e113967bf514",
    "id": "mVAV69ozJRiM"
   },
   "source": [
    "<a id=\"2\"></a> <br>\n",
    "# 2- What is Linear Algebra?\n",
    "Linear algebra is the branch of mathematics concerning linear equations such as\n",
    "<img src='https://wikimedia.org/api/rest_v1/media/math/render/svg/f4f0f2986d54c01f3bccf464d266dfac923c80f3'>\n",
    "Linear algebra is central to almost all areas of mathematics. [6]\n",
    "<img src='https://upload.wikimedia.org/wikipedia/commons/thumb/2/2f/Linear_subspaces_with_shading.svg/800px-Linear_subspaces_with_shading.svg.png' height=400 width=400>\n",
    "[wikipedia](https://en.wikipedia.org/wiki/Linear_algebra#/media/File:Linear_subspaces_with_shading.svg)\n"
   ]
  },
  {
   "cell_type": "code",
   "execution_count": 61,
   "metadata": {
    "_kg_hide-input": true,
    "_uuid": "9d1e3eceee8943fb0b6086abfc68ae6634a6cac3",
    "colab": {
     "base_uri": "https://localhost:8080/"
    },
    "id": "6hkhNuumJRiM",
    "outputId": "a945d220-024c-425d-d4b3-feac441c6bc7"
   },
   "outputs": [
    {
     "name": "stdout",
     "output_type": "stream",
     "text": [
      "[[[0. 0. 0. 0.]\n",
      "  [0. 0. 0. 0.]\n",
      "  [0. 0. 0. 0.]]\n",
      "\n",
      " [[0. 0. 0. 0.]\n",
      "  [0. 0. 0. 0.]\n",
      "  [0. 0. 0. 0.]]]\n",
      "(2, 3, 4)\n"
     ]
    }
   ],
   "source": [
    "# let see how to create a multi dimentional Array with Numpy\n",
    "a = np.zeros((2, 3, 4))\n",
    "#l = [[[ 0.,  0.,  0.,  0.],\n",
    "    #      [ 0.,  0.,  0.,  0.],\n",
    "     #     [ 0.,  0.,  0.,  0.]],\n",
    "     #     [[ 0.,  0.,  0.,  0.],\n",
    "    #      [ 0.,  0.,  0.,  0.],\n",
    "     #     [ 0.,  0.,  0.,  0.]]]\n",
    "print(a)\n",
    "print(a.shape)"
   ]
  },
  {
   "cell_type": "code",
   "execution_count": 62,
   "metadata": {
    "_kg_hide-input": true,
    "_uuid": "3f3396b3c3597ea3a45209181fe86730750ea0b7",
    "colab": {
     "base_uri": "https://localhost:8080/"
    },
    "id": "VN57Fu1sJRiM",
    "outputId": "0eac2eed-a4f8-4bb7-a7e2-d713e462a9a1"
   },
   "outputs": [
    {
     "name": "stdout",
     "output_type": "stream",
     "text": [
      "<class 'list'>\n",
      "[1, 2, 3, 4, 5, 6]\n",
      "[5 7 9]\n",
      "<class 'numpy.ndarray'>\n",
      "[-3  6 -3]\n"
     ]
    }
   ],
   "source": [
    "\n",
    "# Declaring Vectors\n",
    "\n",
    "x = [1, 2, 3]\n",
    "y = [4, 5, 6]\n",
    "\n",
    "print(type(x))\n",
    "\n",
    "# This does'nt give the vector addition.\n",
    "print(x + y)\n",
    "\n",
    "# Vector addition using Numpy\n",
    "\n",
    "z = np.add(x, y)\n",
    "print(z)\n",
    "print(type(z))\n",
    "\n",
    "# Vector Cross Product\n",
    "'''\n",
    "# Calculating the cross product of A and B\n",
    "cross_product = [\n",
    "    A[1]*B[2] - A[2]*B[1],  # i component\n",
    "    -(A[0]*B[2] - A[2]*B[0]),  # j component\n",
    "    A[0]*B[1] - A[1]*B[0]  # k component\n",
    "]\n",
    "'''\n",
    "mul = np.cross(x, y)\n",
    "print(mul)"
   ]
  },
  {
   "cell_type": "markdown",
   "metadata": {
    "_uuid": "49c0b3e90c95512ef3733b25fd87cdef8ce31f97",
    "id": "xT8CFk8ZJRiM"
   },
   "source": [
    "## 2-1 What is Vectorization?\n",
    "In mathematics, especially in linear algebra and matrix theory, the vectorization of a matrix is a linear transformation which converts the matrix into a column vector. Specifically, the vectorization of an m × n matrix A, denoted vec(A), is the mn × 1 column vector obtained by stacking the columns of the matrix A on top of one another:\n",
    "<img src='https://wikimedia.org/api/rest_v1/media/math/render/svg/30ca6a8b796fd3a260ba3001d9875e990baad5ab'>\n",
    "[wikipedia](https://en.wikipedia.org/wiki/Vectorization_(mathematics) )"
   ]
  },
  {
   "cell_type": "markdown",
   "metadata": {
    "_uuid": "dbea06c756c0c9e398def8799d080e23b3e5f899",
    "id": "KGSh8i4mJRiN"
   },
   "source": [
    "Vectors of the length $n$ could be treated like points in $n$-dimensional space. One can calculate the distance between such points using measures like [Euclidean Distance](https://en.wikipedia.org/wiki/Euclidean_distance). The similarity of vectors could also be calculated using [Cosine Similarity](https://en.wikipedia.org/wiki/Cosine_similarity).\n",
    "###### [Go to top](#top)"
   ]
  },
  {
   "cell_type": "markdown",
   "metadata": {
    "_uuid": "edaec8965119aa83192198d2d440c37546335719",
    "id": "UrtXqRlRJRiN"
   },
   "source": [
    "<a id=\"3\"></a> <br>\n",
    "## 3- Notation\n",
    "<img src='http://s8.picofile.com/file/8349058626/la.png'>\n",
    "[linear.ups.edu](http://linear.ups.edu/html/notation.html)"
   ]
  },
  {
   "cell_type": "markdown",
   "metadata": {
    "_uuid": "41bc780d93b81da8aa1ff806c54a4791dbb2c8dc",
    "id": "1c1H8lYGJRiN"
   },
   "source": [
    "<a id=\"4\"></a> <br>\n",
    "## 4- Matrix Multiplication\n",
    "<img src='https://www.mathsisfun.com/algebra/images/matrix-multiply-constant.gif'>\n",
    "\n",
    "[mathsisfun](https://www.mathsisfun.com/algebra/matrix-multiplying.html)"
   ]
  },
  {
   "cell_type": "markdown",
   "metadata": {
    "_uuid": "0573f52724da68f860328d1cc3259c215d817f80",
    "id": "cl4fqc0-JRiN"
   },
   "source": [
    "The result of the multiplication of two matrixes $A \\in \\mathbb{R}^{m \\times n}$ and $B \\in \\mathbb{R}^{n \\times p}$ is the matrix:"
   ]
  },
  {
   "cell_type": "code",
   "execution_count": 124,
   "metadata": {
    "_kg_hide-input": true,
    "_uuid": "788f078e069a2ace3ca7d0aead749ead8b248c6d",
    "id": "pa-BHn3tJRiN"
   },
   "outputs": [],
   "source": [
    "# initializing matrices\n",
    "x = np.array([[1, 2], [4, 5]])\n",
    "y = np.array([[7, 8], [9, 10]])"
   ]
  },
  {
   "cell_type": "code",
   "execution_count": 116,
   "metadata": {
    "colab": {
     "base_uri": "https://localhost:8080/"
    },
    "id": "OlB_QV811zDz",
    "outputId": "1d69e934-58e6-49db-c9d8-a2734ed585e9"
   },
   "outputs": [
    {
     "data": {
      "text/plain": [
       "(2, 2)"
      ]
     },
     "execution_count": 116,
     "metadata": {},
     "output_type": "execute_result"
    }
   ],
   "source": [
    "x.shape"
   ]
  },
  {
   "cell_type": "markdown",
   "metadata": {
    "_uuid": "bd6307c19afbda119a0dacca7e096b965889a30b",
    "id": "5pzLpD5uJRiN"
   },
   "source": [
    "$C = AB \\in \\mathbb{R}^{m \\times n}$"
   ]
  },
  {
   "cell_type": "markdown",
   "metadata": {
    "_uuid": "0e0a76e86724698f241fcc74fc37e54d881622bd",
    "id": "qztw2qZLJRiN"
   },
   "source": [
    "That is, we are multiplying the columns of $A$ with the rows of $B$:"
   ]
  },
  {
   "cell_type": "markdown",
   "metadata": {
    "_uuid": "adb65bab1beb10117cbb490383cb62a9578ce62f",
    "id": "-rrwhmpqJRiN"
   },
   "source": [
    "$C_{ij}=\\sum_{k=1}^n{A_{ij}B_{kj}}$\n",
    "<img src='https://cdn.britannica.com/06/77706-004-31EE92F3.jpg'>\n",
    "[reference](https://cdn.britannica.com/06/77706-004-31EE92F3.jpg)"
   ]
  },
  {
   "cell_type": "markdown",
   "metadata": {
    "_uuid": "17f45fb4f428ad87706493da0431bdce6c00b531",
    "id": "BFJbX8l4JRiN"
   },
   "source": [
    "The number of columns in $A$ must be equal to the number of rows in $B$.\n",
    "\n",
    "###### [Go to top](#top)"
   ]
  },
  {
   "cell_type": "code",
   "execution_count": 117,
   "metadata": {
    "colab": {
     "base_uri": "https://localhost:8080/"
    },
    "id": "CYrMtRXI17kl",
    "outputId": "b24f76c8-d414-4f55-9a29-9a7d2ccbb650"
   },
   "outputs": [
    {
     "data": {
      "text/plain": [
       "array([[1, 2],\n",
       "       [4, 5]])"
      ]
     },
     "execution_count": 117,
     "metadata": {},
     "output_type": "execute_result"
    }
   ],
   "source": [
    "x"
   ]
  },
  {
   "cell_type": "code",
   "execution_count": 118,
   "metadata": {
    "colab": {
     "base_uri": "https://localhost:8080/"
    },
    "id": "oKyXE5kY17YA",
    "outputId": "ee20c5ab-3b67-437c-d022-60a2df351a57"
   },
   "outputs": [
    {
     "data": {
      "text/plain": [
       "array([[ 7,  8],\n",
       "       [ 9, 10]])"
      ]
     },
     "execution_count": 118,
     "metadata": {},
     "output_type": "execute_result"
    }
   ],
   "source": [
    "y"
   ]
  },
  {
   "cell_type": "code",
   "execution_count": 119,
   "metadata": {
    "colab": {
     "base_uri": "https://localhost:8080/"
    },
    "id": "a-AU98Jb1-9F",
    "outputId": "70824e27-c5ee-43f7-f72a-042890e46c88"
   },
   "outputs": [
    {
     "data": {
      "text/plain": [
       "array([[ 8, 10],\n",
       "       [13, 15]])"
      ]
     },
     "execution_count": 119,
     "metadata": {},
     "output_type": "execute_result"
    }
   ],
   "source": [
    "x+y"
   ]
  },
  {
   "cell_type": "code",
   "execution_count": 120,
   "metadata": {
    "id": "ytayCxUg2aYe"
   },
   "outputs": [],
   "source": [
    "# initializing matrices\n",
    "x = np.array([[1, 2]])\n",
    "y = np.array([[7, 8]])"
   ]
  },
  {
   "cell_type": "code",
   "execution_count": 121,
   "metadata": {
    "colab": {
     "base_uri": "https://localhost:8080/"
    },
    "id": "8TxpXbZ32aDJ",
    "outputId": "10109bb3-c5b4-4bee-bf8a-c1083e73b825"
   },
   "outputs": [
    {
     "data": {
      "text/plain": [
       "array([[ 8, 10]])"
      ]
     },
     "execution_count": 121,
     "metadata": {},
     "output_type": "execute_result"
    }
   ],
   "source": [
    "x+y"
   ]
  },
  {
   "cell_type": "code",
   "execution_count": 122,
   "metadata": {
    "colab": {
     "base_uri": "https://localhost:8080/"
    },
    "id": "keCCD1Xw2udW",
    "outputId": "f447f3f4-b8b4-4abd-9630-4cac6f92ddbf"
   },
   "outputs": [
    {
     "data": {
      "text/plain": [
       "[1, 2, 7, 8]"
      ]
     },
     "execution_count": 122,
     "metadata": {},
     "output_type": "execute_result"
    }
   ],
   "source": [
    "x=[1, 2]\n",
    "y=[7, 8]\n",
    "x+y"
   ]
  },
  {
   "cell_type": "code",
   "execution_count": 123,
   "metadata": {
    "colab": {
     "base_uri": "https://localhost:8080/"
    },
    "id": "2snehCi02uSL",
    "outputId": "b2f4f0f4-a7f7-404b-9a74-c89cac397c61"
   },
   "outputs": [
    {
     "data": {
      "text/plain": [
       "array([ 8, 10])"
      ]
     },
     "execution_count": 123,
     "metadata": {},
     "output_type": "execute_result"
    }
   ],
   "source": [
    "np.add(x,y)"
   ]
  },
  {
   "cell_type": "code",
   "execution_count": 125,
   "metadata": {
    "_kg_hide-input": true,
    "_uuid": "3cf4286adffc483893952a31d5a7006c462b3f60",
    "colab": {
     "base_uri": "https://localhost:8080/"
    },
    "id": "bBTkvkngJRiN",
    "outputId": "9f71d67e-c732-4219-f1c8-8f6028c7ea61"
   },
   "outputs": [
    {
     "name": "stdout",
     "output_type": "stream",
     "text": [
      "The element wise addition of matrix is : \n",
      "[[ 8 10]\n",
      " [13 15]]\n"
     ]
    }
   ],
   "source": [
    "# using add() to add matrices\n",
    "print (\"The element wise addition of matrix is : \")\n",
    "print (np.add(x,y))"
   ]
  },
  {
   "cell_type": "code",
   "execution_count": 126,
   "metadata": {
    "_kg_hide-input": true,
    "_uuid": "911a916a2c725232349a832769dd794956cb88cb",
    "colab": {
     "base_uri": "https://localhost:8080/"
    },
    "id": "a9y73gDUJRiN",
    "outputId": "1223c64e-3bca-4f70-aded-d29967fb99f8"
   },
   "outputs": [
    {
     "name": "stdout",
     "output_type": "stream",
     "text": [
      "The element wise subtraction of matrix is : \n",
      "[[-6 -6]\n",
      " [-5 -5]]\n"
     ]
    }
   ],
   "source": [
    "# using subtract() to subtract matrices\n",
    "print (\"The element wise subtraction of matrix is : \")\n",
    "print (np.subtract(x,y))"
   ]
  },
  {
   "cell_type": "code",
   "execution_count": 127,
   "metadata": {
    "colab": {
     "base_uri": "https://localhost:8080/"
    },
    "id": "JuJIlYI13Deg",
    "outputId": "7f2b22ad-50f6-4bd2-b2aa-d07b0a0134a5"
   },
   "outputs": [
    {
     "data": {
      "text/plain": [
       "array([[-6, -6],\n",
       "       [-5, -5]])"
      ]
     },
     "execution_count": 127,
     "metadata": {},
     "output_type": "execute_result"
    }
   ],
   "source": [
    "x-y"
   ]
  },
  {
   "cell_type": "code",
   "execution_count": 128,
   "metadata": {
    "_kg_hide-input": true,
    "_uuid": "045eba6b777e062510cfa4bf055c680830a66036",
    "colab": {
     "base_uri": "https://localhost:8080/"
    },
    "id": "VmF0-A3uJRiN",
    "outputId": "a80d2337-829a-4ee6-9170-2636aea7adfd"
   },
   "outputs": [
    {
     "name": "stdout",
     "output_type": "stream",
     "text": [
      "The element wise division of matrix is : \n",
      "[[0.1429 0.25  ]\n",
      " [0.4444 0.5   ]]\n"
     ]
    }
   ],
   "source": [
    "# using divide() to divide matrices\n",
    "print (\"The element wise division of matrix is : \")\n",
    "print (np.divide(x,y))"
   ]
  },
  {
   "cell_type": "code",
   "execution_count": 129,
   "metadata": {
    "_kg_hide-input": true,
    "_uuid": "aa8078d3057e8169d29ea9730d483ce9aebd5f2f",
    "colab": {
     "base_uri": "https://localhost:8080/"
    },
    "id": "JbAXPBoVJRiN",
    "outputId": "10010594-d674-403a-94fc-2404e7d31fc8"
   },
   "outputs": [
    {
     "name": "stdout",
     "output_type": "stream",
     "text": [
      "The element wise multiplication of matrix is : \n",
      "[[ 7 16]\n",
      " [36 50]]\n"
     ]
    }
   ],
   "source": [
    "# using multiply() to multiply matrices element wise\n",
    "print (\"The element wise multiplication of matrix is : \")\n",
    "print (np.multiply(x,y))"
   ]
  },
  {
   "cell_type": "markdown",
   "metadata": {
    "_uuid": "aa352f5ba3a8ee911eb8f1c03749267eb4c4f76e",
    "id": "zjEQVoQhJRiN"
   },
   "source": [
    "<a id=\"41\"></a> <br>\n",
    "## 4-1 Vector-Vector Products\n",
    "\n",
    "numpy.cross(a, b, axisa=-1, axisb=-1, axisc=-1, axis=None)[source]\n",
    "Return the cross product of two (arrays of) vectors.[scipy](https://docs.scipy.org/doc/numpy-1.15.0/reference/generated/numpy.cross.html)\n",
    "<img src='http://gamedevelopertips.com/wp-content/uploads/2017/11/image8.png'>\n",
    "[image-credits](http://gamedevelopertips.com)"
   ]
  },
  {
   "cell_type": "code",
   "execution_count": 130,
   "metadata": {
    "_kg_hide-input": true,
    "_uuid": "371da89fa6d1b698c59ee82d6aa7b475fd7a5625",
    "colab": {
     "base_uri": "https://localhost:8080/"
    },
    "id": "e8vd2hcSJRiN",
    "outputId": "c40839a6-716c-433a-a1c1-c949071766d0"
   },
   "outputs": [
    {
     "data": {
      "text/plain": [
       "array([-3,  6, -3])"
      ]
     },
     "execution_count": 130,
     "metadata": {},
     "output_type": "execute_result"
    }
   ],
   "source": [
    "x = [1, 2, 3]\n",
    "y = [4, 5, 6]\n",
    "np.cross(x, y)"
   ]
  },
  {
   "cell_type": "markdown",
   "metadata": {
    "_uuid": "4d8ffa140774c6a7e2f0cd35c4809bd80069ce8b",
    "id": "poVSR20OJRiO"
   },
   "source": [
    "We define the vectors $x$ and $y$ using *numpy*:"
   ]
  },
  {
   "cell_type": "code",
   "execution_count": 136,
   "metadata": {
    "_kg_hide-input": true,
    "_uuid": "e6c39782297031e83d0e695fa80f9ebc2a817f4f",
    "colab": {
     "base_uri": "https://localhost:8080/"
    },
    "id": "g4Le9lQhJRiO",
    "outputId": "6bfa31d5-3553-446e-bc9d-34d62e6c1256"
   },
   "outputs": [
    {
     "name": "stdout",
     "output_type": "stream",
     "text": [
      "x: [1 2 3 4]\n",
      "y: [5 6 7 8]\n"
     ]
    }
   ],
   "source": [
    "x = np.array([1, 2, 3, 4])\n",
    "y = np.array([5, 6, 7, 8])\n",
    "print(\"x:\", x)\n",
    "print(\"y:\", y)"
   ]
  },
  {
   "cell_type": "code",
   "execution_count": 137,
   "metadata": {
    "colab": {
     "base_uri": "https://localhost:8080/"
    },
    "id": "170fQoV63sHM",
    "outputId": "7bac3cbd-bb02-4083-e4e6-5434be0ba6ae"
   },
   "outputs": [
    {
     "data": {
      "text/plain": [
       "array([ 5, 12, 21, 32])"
      ]
     },
     "execution_count": 137,
     "metadata": {},
     "output_type": "execute_result"
    }
   ],
   "source": [
    "x*y"
   ]
  },
  {
   "cell_type": "markdown",
   "metadata": {
    "_uuid": "ba7b567d2a4696cf0739e12cf4415ea3b8110e1e",
    "id": "5QHlKW7kJRiO"
   },
   "source": [
    "We can now calculate the $dot$ or $inner product$ using the *dot* function of *numpy*:"
   ]
  },
  {
   "cell_type": "code",
   "execution_count": 138,
   "metadata": {
    "_kg_hide-input": true,
    "_uuid": "c9fd9b61bdfa83059272f1ad61067138d0763308",
    "colab": {
     "base_uri": "https://localhost:8080/"
    },
    "id": "dr7e56-kJRiO",
    "outputId": "7ca64fc8-efb2-467f-8652-fa357edcc724"
   },
   "outputs": [
    {
     "data": {
      "text/plain": [
       "70"
      ]
     },
     "execution_count": 138,
     "metadata": {},
     "output_type": "execute_result"
    }
   ],
   "source": [
    "np.dot(x, y)"
   ]
  },
  {
   "cell_type": "markdown",
   "metadata": {
    "_uuid": "fec79e95e9d5b4059f91fd69334569a6831b835b",
    "id": "DKLRYGqsJRiO"
   },
   "source": [
    "The order of the arguments is irrelevant:"
   ]
  },
  {
   "cell_type": "code",
   "execution_count": 139,
   "metadata": {
    "_kg_hide-input": true,
    "_uuid": "d3843ed486083fd994883be64136127728d09d7e",
    "colab": {
     "base_uri": "https://localhost:8080/"
    },
    "id": "qGoA-TifJRiO",
    "outputId": "e36e2856-deba-42f0-80ec-98c825ad30eb"
   },
   "outputs": [
    {
     "data": {
      "text/plain": [
       "70"
      ]
     },
     "execution_count": 139,
     "metadata": {},
     "output_type": "execute_result"
    }
   ],
   "source": [
    "np.dot(y, x)"
   ]
  },
  {
   "cell_type": "markdown",
   "metadata": {
    "_uuid": "4025fa080136e50fcc4749100946148fa508ce32",
    "id": "V9wyhmj5JRiO"
   },
   "source": [
    "Note that both vectors are actually **row vectors** in the above code. We can transpose them to column vectors by using the *shape* property:"
   ]
  },
  {
   "cell_type": "code",
   "execution_count": 140,
   "metadata": {
    "colab": {
     "base_uri": "https://localhost:8080/"
    },
    "id": "oQRRBqzc4IYN",
    "outputId": "6d934d68-1365-4f59-f10d-489dade8e1cf"
   },
   "outputs": [
    {
     "data": {
      "text/plain": [
       "(4,)"
      ]
     },
     "execution_count": 140,
     "metadata": {},
     "output_type": "execute_result"
    }
   ],
   "source": [
    "x.shape"
   ]
  },
  {
   "cell_type": "code",
   "execution_count": 144,
   "metadata": {
    "_kg_hide-input": true,
    "_uuid": "f3a97f695aad46b1d848469240308024d1dcb634",
    "colab": {
     "base_uri": "https://localhost:8080/"
    },
    "id": "xCpMYKflJRiO",
    "outputId": "e5f8d337-8555-40a4-c654-0f6c85380c6f"
   },
   "outputs": [
    {
     "name": "stdout",
     "output_type": "stream",
     "text": [
      "x: [1 2 3 4]\n",
      "xT: [[1]\n",
      " [2]\n",
      " [3]\n",
      " [4]]\n",
      "(4, 1)\n",
      "y: [5 6 7 8]\n",
      "yT: [[5]\n",
      " [6]\n",
      " [7]\n",
      " [8]]\n",
      "(4, 1)\n"
     ]
    }
   ],
   "source": [
    "print(\"x:\", x)\n",
    "x.shape = (4, 1)\n",
    "print(\"xT:\", x)\n",
    "print(x.shape)\n",
    "print(\"y:\", y)\n",
    "y.shape = (4, 1)\n",
    "print(\"yT:\", y)\n",
    "print(y.shape)"
   ]
  },
  {
   "cell_type": "markdown",
   "metadata": {
    "_uuid": "6a850ef7d0e2025dd57cbf89c4bbe4146ed83ba4",
    "id": "aOtYGVJcJRiO"
   },
   "source": [
    "In fact, in our understanding of Linear Algebra, we take the arrays above to represent **row vectors**. *Numpy* treates them differently."
   ]
  },
  {
   "cell_type": "markdown",
   "metadata": {
    "_uuid": "b64cdd134c53e7865a76d4efecc2ace176c664cd",
    "id": "_6-L-4diJRiO"
   },
   "source": [
    "We see the issues when we try to transform the array objects. Usually, we can transform a row vector into a column vector in *numpy* by using the *T* method on vector or matrix objects:\n",
    "###### [Go to top](#top)"
   ]
  },
  {
   "cell_type": "code",
   "execution_count": 145,
   "metadata": {
    "_kg_hide-input": true,
    "_uuid": "bb73c80a401c89d79dbd920e5d63cf1a07b384e7",
    "colab": {
     "base_uri": "https://localhost:8080/"
    },
    "id": "Z_O97JEnJRiO",
    "outputId": "a5db853d-980f-4ba5-c43d-335ed8125803"
   },
   "outputs": [
    {
     "name": "stdout",
     "output_type": "stream",
     "text": [
      "x: [1 2 3 4]\n",
      "y: [5 6 7 8]\n",
      "xT: [1 2 3 4]\n",
      "yT: [5 6 7 8]\n",
      "(4,)\n"
     ]
    }
   ],
   "source": [
    "x = np.array([1, 2, 3, 4])\n",
    "y = np.array([5, 6, 7, 8])\n",
    "print(\"x:\", x)\n",
    "print(\"y:\", y)\n",
    "print(\"xT:\", x.T)\n",
    "print(\"yT:\", y.T)\n",
    "print(y.T.shape)"
   ]
  },
  {
   "cell_type": "markdown",
   "metadata": {
    "_uuid": "e80fc9e4bec6d2cc26a8194e19736e1f24484d5f",
    "id": "KxlPsAP-JRiO"
   },
   "source": [
    "The problem here is that this does not do, what we expect it to do. It only works, if we declare the variables not to be arrays of numbers, but in fact a matrix:"
   ]
  },
  {
   "cell_type": "code",
   "execution_count": 147,
   "metadata": {
    "_kg_hide-input": true,
    "_uuid": "cb78424e23837608cbd597fb6fc7c3cbd99f368a",
    "colab": {
     "base_uri": "https://localhost:8080/"
    },
    "id": "dV--RBtgJRiO",
    "outputId": "bb5873f7-d996-4256-a314-833cc53b293c"
   },
   "outputs": [
    {
     "name": "stdout",
     "output_type": "stream",
     "text": [
      "x: [[1 2 3 4]]\n",
      "y: [[5 6 7 8]]\n",
      "xT: [[1]\n",
      " [2]\n",
      " [3]\n",
      " [4]]\n",
      "yT: [[5]\n",
      " [6]\n",
      " [7]\n",
      " [8]]\n",
      "(4, 1)\n"
     ]
    }
   ],
   "source": [
    "x = np.array([[1, 2, 3, 4]])\n",
    "y = np.array([[5, 6, 7, 8]])\n",
    "print(\"x:\", x)\n",
    "print(\"y:\", y)\n",
    "print(\"xT:\", x.T)\n",
    "print(\"yT:\", y.T)\n",
    "print(x.T.shape)"
   ]
  },
  {
   "cell_type": "markdown",
   "metadata": {
    "_uuid": "9bed60bdfd536f42ad4a88a358e611fef07bc14a",
    "id": "n51EWyMvJRiO"
   },
   "source": [
    "Note that the *numpy* functions *dot* and *outer* are not affected by this distinction. We can compute the dot product using the mathematical equation above in *numpy* using the new $x$ and $y$ row vectors:\n",
    "###### [Go to top](#top)"
   ]
  },
  {
   "cell_type": "code",
   "execution_count": 75,
   "metadata": {
    "_kg_hide-input": true,
    "_uuid": "df9c92e49f2dad24800996d0655caccec351c580",
    "colab": {
     "base_uri": "https://localhost:8080/"
    },
    "id": "GgHvzDgKJRiP",
    "outputId": "1d61c380-ebf8-4ce1-e4f3-d856c0524571"
   },
   "outputs": [
    {
     "name": "stdout",
     "output_type": "stream",
     "text": [
      "x: [[1 2 3 4]]\n",
      "y: [[5]\n",
      " [6]\n",
      " [7]\n",
      " [8]]\n"
     ]
    },
    {
     "data": {
      "text/plain": [
       "array([[70]])"
      ]
     },
     "execution_count": 75,
     "metadata": {},
     "output_type": "execute_result"
    }
   ],
   "source": [
    "print(\"x:\", x)\n",
    "print(\"y:\", y.T)\n",
    "np.dot(x, y.T)"
   ]
  },
  {
   "cell_type": "markdown",
   "metadata": {
    "_uuid": "c1705fc2b1b16b9228274a2f53cd0fa59a39d8fd",
    "id": "j_mFKv5PJRiP"
   },
   "source": [
    "Or by reverting to:"
   ]
  },
  {
   "cell_type": "code",
   "execution_count": 148,
   "metadata": {
    "_kg_hide-input": true,
    "_uuid": "3a86b041668670f66b643053dfecfc46bdcd2749",
    "colab": {
     "base_uri": "https://localhost:8080/"
    },
    "id": "BQoT3nvsJRiP",
    "outputId": "e1a2a804-6c20-43f7-c7ba-e7ffea440bbb"
   },
   "outputs": [
    {
     "name": "stdout",
     "output_type": "stream",
     "text": [
      "x: [[1]\n",
      " [2]\n",
      " [3]\n",
      " [4]]\n",
      "y: [[5 6 7 8]]\n",
      "[[70]]\n",
      "(1, 1)\n"
     ]
    }
   ],
   "source": [
    "print(\"x:\", x.T)\n",
    "print(\"y:\", y)\n",
    "print(np.dot(y, x.T))\n",
    "print(np.dot(y, x.T).shape)"
   ]
  },
  {
   "cell_type": "markdown",
   "metadata": {
    "_uuid": "13ebfb31e281db7417cc3e2beb312e63f9688e28",
    "id": "OYrIr7ZoJRiP"
   },
   "source": [
    "To read the result from this array of arrays, we would need to access the value this way:"
   ]
  },
  {
   "cell_type": "code",
   "execution_count": 77,
   "metadata": {
    "_kg_hide-input": true,
    "_uuid": "295be78d3c1258ec4f24579985c5f14f8746e8a9",
    "colab": {
     "base_uri": "https://localhost:8080/"
    },
    "id": "8Tygam2wJRiP",
    "outputId": "45a6a9f1-4067-4970-9093-96a6775ee91d"
   },
   "outputs": [
    {
     "data": {
      "text/plain": [
       "70"
      ]
     },
     "execution_count": 77,
     "metadata": {},
     "output_type": "execute_result"
    }
   ],
   "source": [
    "np.dot(y, x.T)[0][0]"
   ]
  },
  {
   "cell_type": "markdown",
   "metadata": {
    "_uuid": "b5bda4ac75a8d11935ef765b2c869e56d9df8a56",
    "id": "FRGKX1hzJRiP"
   },
   "source": [
    "<a id=\"42\"></a> <br>\n",
    "## 4-2 Outer Product of Two Vectors\n",
    "Compute the outer product of two vectors."
   ]
  },
  {
   "cell_type": "code",
   "execution_count": 78,
   "metadata": {
    "_kg_hide-input": true,
    "_uuid": "31c5791cb210071f5253d0a20a7f1e2c030a48ea",
    "colab": {
     "base_uri": "https://localhost:8080/"
    },
    "id": "978sOgVDJRiP",
    "outputId": "a264ca03-6369-45b6-d42e-75c3c3e250fd"
   },
   "outputs": [
    {
     "name": "stdout",
     "output_type": "stream",
     "text": [
      "x: [[1 2 3 4]]\n",
      "xT: [[1]\n",
      " [2]\n",
      " [3]\n",
      " [4]]\n",
      "xT: [[1]\n",
      " [2]\n",
      " [3]\n",
      " [4]]\n",
      "xT: [[1]\n",
      " [2]\n",
      " [3]\n",
      " [4]]\n"
     ]
    }
   ],
   "source": [
    "x = np.array([[1, 2, 3, 4]])\n",
    "print(\"x:\", x)\n",
    "print(\"xT:\", np.reshape(x, (4, 1)))\n",
    "print(\"xT:\", x.T)\n",
    "print(\"xT:\", x.transpose())"
   ]
  },
  {
   "cell_type": "markdown",
   "metadata": {
    "_uuid": "79454aca18aaa191658d04a48662f75588dd6e4e",
    "id": "njM_HpRpJRiP"
   },
   "source": [
    "Example\n",
    "###### [Go to top](#top)"
   ]
  },
  {
   "cell_type": "markdown",
   "metadata": {
    "_uuid": "0f8844018b2de3e4cd9584350a223b1e1347efe9",
    "id": "4XWgU6JDJRiP"
   },
   "source": [
    "We can now compute the **outer product** by multiplying the column vector $x$ with the row vector $y$:"
   ]
  },
  {
   "cell_type": "code",
   "execution_count": 149,
   "metadata": {
    "_kg_hide-input": true,
    "_uuid": "4744a491b80ce1e01ddc4590847c9660ea9ae14b",
    "colab": {
     "base_uri": "https://localhost:8080/"
    },
    "id": "Pu-SQgnHJRiP",
    "outputId": "fe748232-dc83-4f64-9d2c-81932684fff1"
   },
   "outputs": [
    {
     "data": {
      "text/plain": [
       "array([[ 5,  6,  7,  8],\n",
       "       [10, 12, 14, 16],\n",
       "       [15, 18, 21, 24],\n",
       "       [20, 24, 28, 32]])"
      ]
     },
     "execution_count": 149,
     "metadata": {},
     "output_type": "execute_result"
    }
   ],
   "source": [
    "x = np.array([[1, 2, 3, 4]])\n",
    "y = np.array([[5, 6, 7, 8]])\n",
    "x.T * y"
   ]
  },
  {
   "cell_type": "code",
   "execution_count": 150,
   "metadata": {
    "colab": {
     "base_uri": "https://localhost:8080/"
    },
    "id": "oi7e4WD66gHa",
    "outputId": "a5033d44-f8f1-47ba-d812-246b2865f155"
   },
   "outputs": [
    {
     "data": {
      "text/plain": [
       "array([[1, 2, 3, 4]])"
      ]
     },
     "execution_count": 150,
     "metadata": {},
     "output_type": "execute_result"
    }
   ],
   "source": [
    "x"
   ]
  },
  {
   "cell_type": "code",
   "execution_count": 151,
   "metadata": {
    "colab": {
     "base_uri": "https://localhost:8080/"
    },
    "id": "WQZH39AS6iIS",
    "outputId": "efa1eed7-b4f5-461d-95fe-45632e0f74e7"
   },
   "outputs": [
    {
     "data": {
      "text/plain": [
       "array([[1],\n",
       "       [2],\n",
       "       [3],\n",
       "       [4]])"
      ]
     },
     "execution_count": 151,
     "metadata": {},
     "output_type": "execute_result"
    }
   ],
   "source": [
    "x.T"
   ]
  },
  {
   "cell_type": "code",
   "execution_count": 152,
   "metadata": {
    "colab": {
     "base_uri": "https://localhost:8080/"
    },
    "id": "Ai5l1QzT6kQe",
    "outputId": "0b7757ef-b847-4bf0-d5b9-7bc3fe69d58a"
   },
   "outputs": [
    {
     "data": {
      "text/plain": [
       "array([[5, 6, 7, 8]])"
      ]
     },
     "execution_count": 152,
     "metadata": {},
     "output_type": "execute_result"
    }
   ],
   "source": [
    "y"
   ]
  },
  {
   "cell_type": "markdown",
   "metadata": {
    "_uuid": "7ee36e496adf686e1445faca7e5c9c1dee9abf35",
    "id": "irJtHWOMJRiP"
   },
   "source": [
    "*Numpy* provides an *outer* function that does all that:"
   ]
  },
  {
   "cell_type": "code",
   "execution_count": 80,
   "metadata": {
    "_uuid": "47ce570eb9aa9a1173a2f30de728aba2aec3976c",
    "colab": {
     "base_uri": "https://localhost:8080/"
    },
    "id": "z2D7CVAaJRiP",
    "outputId": "7c6eb10d-3da8-4d12-87c0-d5c26c1b43d5"
   },
   "outputs": [
    {
     "data": {
      "text/plain": [
       "array([[ 5,  6,  7,  8],\n",
       "       [10, 12, 14, 16],\n",
       "       [15, 18, 21, 24],\n",
       "       [20, 24, 28, 32]])"
      ]
     },
     "execution_count": 80,
     "metadata": {},
     "output_type": "execute_result"
    }
   ],
   "source": [
    "np.outer(x, y)"
   ]
  },
  {
   "cell_type": "markdown",
   "metadata": {
    "_uuid": "b3eed151fe4f34604d1691e36a41d82b36d3fead",
    "id": "-6ufmz9FJRiP"
   },
   "source": [
    "Note, in this simple case using the simple arrays for the data structures of the vectors does not affect the result of the *outer* function:"
   ]
  },
  {
   "cell_type": "code",
   "execution_count": 81,
   "metadata": {
    "_kg_hide-input": true,
    "_uuid": "e52b29787ddf67293d7dbe6f0887cfc23fc4f11f",
    "colab": {
     "base_uri": "https://localhost:8080/"
    },
    "id": "XrVO-VeHJRiP",
    "outputId": "b1dd87fb-5796-4913-c034-0b9afc822618"
   },
   "outputs": [
    {
     "data": {
      "text/plain": [
       "array([[ 5,  6,  7,  8],\n",
       "       [10, 12, 14, 16],\n",
       "       [15, 18, 21, 24],\n",
       "       [20, 24, 28, 32]])"
      ]
     },
     "execution_count": 81,
     "metadata": {},
     "output_type": "execute_result"
    }
   ],
   "source": [
    "x = np.array([1, 2, 3, 4])\n",
    "y = np.array([5, 6, 7, 8])\n",
    "np.outer(x, y)"
   ]
  },
  {
   "cell_type": "markdown",
   "metadata": {
    "_uuid": "0497e5d541a3c1ba344863a6730ea7521e65d50c",
    "id": "69s8FEzdJRiQ"
   },
   "source": [
    "<a id=\"43\"></a> <br>\n",
    "## 4-3 Matrix-Vector Products\n",
    "Use numpy.dot or a.dot(b). See the documentation [here](http://docs.scipy.org/doc/numpy/reference/generated/numpy.dot.html)."
   ]
  },
  {
   "cell_type": "code",
   "execution_count": 82,
   "metadata": {
    "_kg_hide-input": true,
    "_uuid": "dab712cc9bfed1169b78e17b899fb51ab054323a",
    "colab": {
     "base_uri": "https://localhost:8080/"
    },
    "id": "2YVgpPfsJRiQ",
    "outputId": "89d6733a-6a03-43b3-c98a-4b0b09527308"
   },
   "outputs": [
    {
     "name": "stdout",
     "output_type": "stream",
     "text": [
      "[16  6  8]\n"
     ]
    }
   ],
   "source": [
    "a = np.array([[ 5, 1 ,3], [ 1, 1 ,1], [ 1, 2 ,1]])\n",
    "b = np.array([1, 2, 3])\n",
    "print (a.dot(b))"
   ]
  },
  {
   "cell_type": "markdown",
   "metadata": {
    "_uuid": "2be29c242244536effade27bc0f8bbd03eddd537",
    "id": "iNkCknccJRiQ"
   },
   "source": [
    "Using *numpy* we can compute $Ax$:"
   ]
  },
  {
   "cell_type": "code",
   "execution_count": 83,
   "metadata": {
    "_kg_hide-input": true,
    "_uuid": "00f0a534b7dae7a24ee27a74553e1f785f3714ef",
    "colab": {
     "base_uri": "https://localhost:8080/"
    },
    "id": "YDPAFn61JRiQ",
    "outputId": "c0bfee28-3a6b-4417-ccd3-b9ef9ed3506f"
   },
   "outputs": [
    {
     "data": {
      "text/plain": [
       "array([32, 50])"
      ]
     },
     "execution_count": 83,
     "metadata": {},
     "output_type": "execute_result"
    }
   ],
   "source": [
    "A = np.array([[4, 5, 6],\n",
    "             [7, 8, 9]])\n",
    "x = np.array([1, 2, 3])\n",
    "A.dot(x)"
   ]
  },
  {
   "cell_type": "markdown",
   "metadata": {
    "_uuid": "baee0e90e0271a893fa7344c7fbecb17849e24cb",
    "id": "bVNcPtLyJRiQ"
   },
   "source": [
    "<a id=\"44\"></a> <br>\n",
    "## 4-4 Matrix-Matrix Products"
   ]
  },
  {
   "cell_type": "code",
   "execution_count": 84,
   "metadata": {
    "_uuid": "e195d447d2cef723907f73cd692b9dc3ce17e271",
    "colab": {
     "base_uri": "https://localhost:8080/"
    },
    "id": "6xXwp_E3JRiQ",
    "outputId": "100565d0-c82c-4495-82a4-38e722638d36"
   },
   "outputs": [
    {
     "data": {
      "text/plain": [
       "array([[4, 1],\n",
       "       [2, 2]])"
      ]
     },
     "execution_count": 84,
     "metadata": {},
     "output_type": "execute_result"
    }
   ],
   "source": [
    "a = [[1, 0], [0, 1]]\n",
    "b = [[4, 1], [2, 2]]\n",
    "np.matmul(a, b)"
   ]
  },
  {
   "cell_type": "code",
   "execution_count": 85,
   "metadata": {
    "_kg_hide-input": true,
    "_uuid": "da4f41de85c7b81e7b12eb2aa5d96f36b9239795",
    "id": "IIFZD7BMJRiQ"
   },
   "outputs": [],
   "source": [
    "matrix1 = np.matrix(a)\n",
    "matrix2 = np.matrix(b)"
   ]
  },
  {
   "cell_type": "code",
   "execution_count": 86,
   "metadata": {
    "_kg_hide-input": true,
    "_uuid": "8fff3d143c70a997cb601ce8440f3e98ba4be645",
    "colab": {
     "base_uri": "https://localhost:8080/"
    },
    "id": "cDNuWPJMJRiQ",
    "outputId": "f9a1c5e0-0d64-42ad-899f-6a2caded3ba4"
   },
   "outputs": [
    {
     "data": {
      "text/plain": [
       "matrix([[5, 1],\n",
       "        [2, 3]])"
      ]
     },
     "execution_count": 86,
     "metadata": {},
     "output_type": "execute_result"
    }
   ],
   "source": [
    "matrix1 + matrix2"
   ]
  },
  {
   "cell_type": "code",
   "execution_count": 87,
   "metadata": {
    "_uuid": "80a8ae1787a4ca1aedc4ec0bfc9ec7ca36935209",
    "colab": {
     "base_uri": "https://localhost:8080/"
    },
    "id": "VDQabYEUJRiQ",
    "outputId": "b5b74e7b-04de-4b6b-96ba-10bbd8baaaa6"
   },
   "outputs": [
    {
     "data": {
      "text/plain": [
       "matrix([[-3, -1],\n",
       "        [-2, -1]])"
      ]
     },
     "execution_count": 87,
     "metadata": {},
     "output_type": "execute_result"
    }
   ],
   "source": [
    "matrix1 - matrix2"
   ]
  },
  {
   "cell_type": "markdown",
   "metadata": {
    "_uuid": "ee80826d7e34cb283c5ff4ef165d05f7715fe14f",
    "id": "Ljq05Tr1JRiQ"
   },
   "source": [
    "<a id=\"441\"></a> <br>\n",
    "### 4-4-1  Multiplication"
   ]
  },
  {
   "cell_type": "code",
   "execution_count": 88,
   "metadata": {
    "_uuid": "413b954a7fce564c58d2bab2c0e48c8a268ca706",
    "colab": {
     "base_uri": "https://localhost:8080/"
    },
    "id": "Yo-CBgsLJRiR",
    "outputId": "9b8e5c44-7c5f-4cf3-eb3b-2fa4af23f848"
   },
   "outputs": [
    {
     "data": {
      "text/plain": [
       "matrix([[4, 1],\n",
       "        [2, 2]])"
      ]
     },
     "execution_count": 88,
     "metadata": {},
     "output_type": "execute_result"
    }
   ],
   "source": [
    "np.dot(matrix1, matrix2)"
   ]
  },
  {
   "cell_type": "code",
   "execution_count": 89,
   "metadata": {
    "_uuid": "71a943f0cf2b0a27001ed6e53a766f2626946587",
    "colab": {
     "base_uri": "https://localhost:8080/"
    },
    "id": "TzzlR2EqJRiR",
    "outputId": "39d677ef-0100-4b14-da7f-8a7c0025c63e"
   },
   "outputs": [
    {
     "data": {
      "text/plain": [
       "matrix([[4, 1],\n",
       "        [2, 2]])"
      ]
     },
     "execution_count": 89,
     "metadata": {},
     "output_type": "execute_result"
    }
   ],
   "source": [
    "\n",
    "matrix1 * matrix2"
   ]
  },
  {
   "cell_type": "markdown",
   "metadata": {
    "_uuid": "42bf81d28ea53bf258944612b436bf9a3a6b1292",
    "id": "i6COfr00JRiR"
   },
   "source": [
    "<a id=\"5\"></a> <br>\n",
    "## 5- Identity Matrix"
   ]
  },
  {
   "cell_type": "markdown",
   "metadata": {
    "_uuid": "2cb80bc7e181a316499f1c420d6504714a887c98",
    "id": "FU_DveP9JRiR"
   },
   "source": [
    "numpy.identity(n, dtype=None)\n",
    "\n",
    "Return the identity array.\n",
    "[source](https://docs.scipy.org/doc/numpy-1.15.0/reference/generated/numpy.identity.html)"
   ]
  },
  {
   "cell_type": "code",
   "execution_count": 90,
   "metadata": {
    "_uuid": "842b12bf0ffff4ab4252db3134ca16eb44d2bc89",
    "colab": {
     "base_uri": "https://localhost:8080/"
    },
    "id": "LobXwBHSJRiR",
    "outputId": "d9f14da6-dee3-4708-8006-aa89c772ef15"
   },
   "outputs": [
    {
     "data": {
      "text/plain": [
       "array([[1., 0., 0.],\n",
       "       [0., 1., 0.],\n",
       "       [0., 0., 1.]])"
      ]
     },
     "execution_count": 90,
     "metadata": {},
     "output_type": "execute_result"
    }
   ],
   "source": [
    "np.identity(3)"
   ]
  },
  {
   "cell_type": "markdown",
   "metadata": {
    "_uuid": "be61bed3414ed2dccb551abbffb0a58ba270d38d",
    "id": "TExtKEMjJRiR"
   },
   "source": [
    "How to create *identity matrix* in *numpy*  "
   ]
  },
  {
   "cell_type": "code",
   "execution_count": 153,
   "metadata": {
    "_uuid": "29068a6e863dff19854170ea9ef701385d4ebda7",
    "colab": {
     "base_uri": "https://localhost:8080/"
    },
    "id": "sd_OTp7mJRiR",
    "outputId": "8d6ed656-dbd4-4bb4-9c29-b6e6554b1ff9"
   },
   "outputs": [
    {
     "name": "stdout",
     "output_type": "stream",
     "text": [
      "identy: [[21  5  7]\n",
      " [ 9  8 16]]\n"
     ]
    }
   ],
   "source": [
    "identy = np.array([[21, 5, 7],[9, 8, 16]])\n",
    "print(\"identy:\", identy)"
   ]
  },
  {
   "cell_type": "code",
   "execution_count": 154,
   "metadata": {
    "_uuid": "41d1470cef878a6ea9d6db819ca44bf5ebc7232e",
    "colab": {
     "base_uri": "https://localhost:8080/"
    },
    "id": "nVfS48JjJRiR",
    "outputId": "17a9256c-8940-4424-88d5-3e93f77267ea"
   },
   "outputs": [
    {
     "data": {
      "text/plain": [
       "(2, 3)"
      ]
     },
     "execution_count": 154,
     "metadata": {},
     "output_type": "execute_result"
    }
   ],
   "source": [
    "identy.shape"
   ]
  },
  {
   "cell_type": "code",
   "execution_count": 155,
   "metadata": {
    "_uuid": "70d0df8d58e0a9209bcaa5753c51d3e8d905ce40",
    "colab": {
     "base_uri": "https://localhost:8080/"
    },
    "id": "FRtL-OdWJRiR",
    "outputId": "1841fb94-d168-4b12-b198-7b2e33671713"
   },
   "outputs": [
    {
     "data": {
      "text/plain": [
       "array([[1, 0, 0],\n",
       "       [0, 1, 0],\n",
       "       [0, 0, 1]])"
      ]
     },
     "execution_count": 155,
     "metadata": {},
     "output_type": "execute_result"
    }
   ],
   "source": [
    "np.identity(identy.shape[1], dtype=\"int\")"
   ]
  },
  {
   "cell_type": "code",
   "execution_count": 157,
   "metadata": {
    "colab": {
     "base_uri": "https://localhost:8080/"
    },
    "id": "zEK7ToTE8TY7",
    "outputId": "6e07561a-2a40-4852-9d09-feb8ea341f71"
   },
   "outputs": [
    {
     "data": {
      "text/plain": [
       "array([[1., 0., 0., 0., 0.],\n",
       "       [0., 1., 0., 0., 0.],\n",
       "       [0., 0., 1., 0., 0.],\n",
       "       [0., 0., 0., 1., 0.],\n",
       "       [0., 0., 0., 0., 1.]])"
      ]
     },
     "execution_count": 157,
     "metadata": {},
     "output_type": "execute_result"
    }
   ],
   "source": [
    "np.identity(5)"
   ]
  },
  {
   "cell_type": "code",
   "execution_count": 94,
   "metadata": {
    "_uuid": "6ac179dd27c16233d91df6ef504de64e5fadb7c8",
    "colab": {
     "base_uri": "https://localhost:8080/"
    },
    "id": "zynnboJFJRiV",
    "outputId": "67972f15-ecd6-487c-8490-fce48b5c91e0"
   },
   "outputs": [
    {
     "data": {
      "text/plain": [
       "array([[1, 0],\n",
       "       [0, 1]])"
      ]
     },
     "execution_count": 94,
     "metadata": {},
     "output_type": "execute_result"
    }
   ],
   "source": [
    "np.identity(identy.shape[0], dtype=\"int\")"
   ]
  },
  {
   "cell_type": "markdown",
   "metadata": {
    "_uuid": "7f97a3211e646d8ffc467bcda3623da3b89b9202",
    "id": "jo_4rA4EJRiV"
   },
   "source": [
    "<a id=\"51\"></a> <br>\n",
    "### 5-1  Inverse Matrices"
   ]
  },
  {
   "cell_type": "code",
   "execution_count": 158,
   "metadata": {
    "colab": {
     "base_uri": "https://localhost:8080/"
    },
    "id": "mpjIisgJ8dsB",
    "outputId": "2c7da762-12f0-4319-ae26-11cd81a614bd"
   },
   "outputs": [
    {
     "data": {
      "text/plain": [
       "array([[0, 1, 0, 0],\n",
       "       [0, 0, 1, 0],\n",
       "       [0, 1, 1, 0],\n",
       "       [1, 0, 0, 1]])"
      ]
     },
     "execution_count": 158,
     "metadata": {},
     "output_type": "execute_result"
    }
   ],
   "source": [
    "matrix"
   ]
  },
  {
   "cell_type": "code",
   "execution_count": 159,
   "metadata": {
    "_uuid": "2e0fdf7abf02064addfb5acf23b751dbf8e8fc1f",
    "colab": {
     "base_uri": "https://localhost:8080/"
    },
    "id": "4I3Nf7BxJRiV",
    "outputId": "c69681fd-ba3f-4cfe-c0df-473056b2d9ec"
   },
   "outputs": [
    {
     "name": "stdout",
     "output_type": "stream",
     "text": [
      "[[1. 0.]\n",
      " [0. 1.]]\n"
     ]
    }
   ],
   "source": [
    "inverse = np.linalg.inv(matrix1)\n",
    "print(inverse)"
   ]
  },
  {
   "cell_type": "markdown",
   "metadata": {
    "_uuid": "93c10865c2374f850dd040b8d545c226002dbb75",
    "id": "AAm76PobJRiV"
   },
   "source": [
    "<a id=\"6\"></a> <br>\n",
    "## 6- Diagonal Matrix"
   ]
  },
  {
   "cell_type": "markdown",
   "metadata": {
    "_uuid": "10c74f8237e9f95bcc0e47cf5b2c0beba8b39b01",
    "id": "udx4NrxUJRiV"
   },
   "source": [
    "In *numpy* we can create a *diagonal matrix* from any given matrix using the *diag* function:"
   ]
  },
  {
   "cell_type": "code",
   "execution_count": 163,
   "metadata": {
    "_uuid": "51b5323cf73f7e328f3c8c024fd634e33329235b",
    "colab": {
     "base_uri": "https://localhost:8080/"
    },
    "id": "2Es5NHTXJRiW",
    "outputId": "2f1ba94f-5ce8-480b-96e4-c8740168de0d"
   },
   "outputs": [
    {
     "data": {
      "text/plain": [
       "array([ 0,  5, 10, 15])"
      ]
     },
     "execution_count": 163,
     "metadata": {},
     "output_type": "execute_result"
    }
   ],
   "source": [
    "import numpy as np\n",
    "A = np.array([[0,   1,  2,  3],\n",
    "              [4,   5,  6,  7],\n",
    "              [8,   9, 10, 11],\n",
    "              [12, 13, 14, 15]])\n",
    "np.diag(A)"
   ]
  },
  {
   "cell_type": "code",
   "execution_count": 173,
   "metadata": {
    "colab": {
     "base_uri": "https://localhost:8080/"
    },
    "id": "5FcwBmMN9ex6",
    "outputId": "d76fd32d-f504-4f57-d531-1daf3f596bba"
   },
   "outputs": [
    {
     "data": {
      "text/plain": [
       "2"
      ]
     },
     "execution_count": 173,
     "metadata": {},
     "output_type": "execute_result"
    }
   ],
   "source": []
  },
  {
   "cell_type": "code",
   "execution_count": 164,
   "metadata": {
    "_uuid": "213118a89acd75f4ca025d46b319037cd1bcbbf8",
    "colab": {
     "base_uri": "https://localhost:8080/"
    },
    "id": "Nm5GdMunJRiW",
    "outputId": "bc2633ab-6606-4e6b-be2c-560b7e1e1ce0"
   },
   "outputs": [
    {
     "data": {
      "text/plain": [
       "array([ 1,  6, 11])"
      ]
     },
     "execution_count": 164,
     "metadata": {},
     "output_type": "execute_result"
    }
   ],
   "source": [
    "np.diag(A, k=1)"
   ]
  },
  {
   "cell_type": "code",
   "execution_count": 165,
   "metadata": {
    "_uuid": "70526663a463f5cdb1214fcf5ea2f7f3fb9ce166",
    "colab": {
     "base_uri": "https://localhost:8080/"
    },
    "id": "QGHjkof4JRiW",
    "outputId": "e3159309-741c-49ab-a37c-4ac26c3198e5"
   },
   "outputs": [
    {
     "data": {
      "text/plain": [
       "array([ 4,  9, 14])"
      ]
     },
     "execution_count": 165,
     "metadata": {},
     "output_type": "execute_result"
    }
   ],
   "source": [
    "np.diag(A, k=-1)"
   ]
  },
  {
   "cell_type": "code",
   "execution_count": 167,
   "metadata": {
    "colab": {
     "base_uri": "https://localhost:8080/"
    },
    "id": "FWoUZykS8yDS",
    "outputId": "70517ea0-d065-4080-b16f-e0ded384053f"
   },
   "outputs": [
    {
     "data": {
      "text/plain": [
       "array([3])"
      ]
     },
     "execution_count": 167,
     "metadata": {},
     "output_type": "execute_result"
    }
   ],
   "source": [
    "np.diag(A, k=3)"
   ]
  },
  {
   "cell_type": "markdown",
   "metadata": {
    "_uuid": "87d1e66c2fdd87db8a4b6e7b2dfee28d66dfd3fa",
    "id": "MMBn9xMaJRiW"
   },
   "source": [
    "<a id=\"7\"></a> <br>\n",
    "## 7- Transpose of a Matrix\n",
    "For reading about Transpose of a Matrix, you can visit [this link](https://py.checkio.org/en/mission/matrix-transpose/)"
   ]
  },
  {
   "cell_type": "code",
   "execution_count": 99,
   "metadata": {
    "_uuid": "dea9e2ef7ac37cb7b1ce919c68bb0b352e01fff7",
    "colab": {
     "base_uri": "https://localhost:8080/"
    },
    "id": "phVCiPeYJRiW",
    "outputId": "e08264e6-633d-4916-fac0-3ba19661690a"
   },
   "outputs": [
    {
     "data": {
      "text/plain": [
       "array([[1, 2],\n",
       "       [3, 4]])"
      ]
     },
     "execution_count": 99,
     "metadata": {},
     "output_type": "execute_result"
    }
   ],
   "source": [
    "a = np.array([[1, 2], [3, 4]])\n",
    "a"
   ]
  },
  {
   "cell_type": "code",
   "execution_count": 100,
   "metadata": {
    "_uuid": "8e8a6944750b79de14323af2d68b6cfac7bcf192",
    "colab": {
     "base_uri": "https://localhost:8080/"
    },
    "id": "vshrB0tEJRiW",
    "outputId": "c9b78c6f-8d7e-4413-f853-6f4a33c4b58e"
   },
   "outputs": [
    {
     "data": {
      "text/plain": [
       "array([[1, 3],\n",
       "       [2, 4]])"
      ]
     },
     "execution_count": 100,
     "metadata": {},
     "output_type": "execute_result"
    }
   ],
   "source": [
    "a.transpose()"
   ]
  },
  {
   "cell_type": "markdown",
   "metadata": {
    "_uuid": "2862a79e4c2abaede94a473a74f5eee9c07be65d",
    "id": "2UJHbFDHJRiW"
   },
   "source": [
    "<a id=\"8\"></a> <br>\n",
    "## 8- Symmetric Matrices\n",
    "In linear algebra, a symmetric matrix is a square matrix that is equal to its transpose. Formally,\n",
    "<img src='https://wikimedia.org/api/rest_v1/media/math/render/svg/ad8a5a3a4c95de6f7f50b0a6fb592d115fe0e95f'>\n",
    "\n",
    "[wikipedia](https://en.wikipedia.org/wiki/Symmetric_matrix)"
   ]
  },
  {
   "cell_type": "code",
   "execution_count": 101,
   "metadata": {
    "_uuid": "d859ccb55b0e40c4261314d69731be42efa5c03f",
    "colab": {
     "base_uri": "https://localhost:8080/"
    },
    "id": "HjBGa6yoJRiW",
    "outputId": "e41170e8-8533-4628-8db9-e53d27cf65d4"
   },
   "outputs": [
    {
     "name": "stderr",
     "output_type": "stream",
     "text": [
      "<ipython-input-101-fa8b13967f1b>:2: DeprecationWarning: This function is deprecated. Please call randint(-2000, 2000 + 1) instead\n",
      "  b = np.random.random_integers(-2000,2000,size=(N,N))\n"
     ]
    }
   ],
   "source": [
    "N = 100\n",
    "b = np.random.random_integers(-2000,2000,size=(N,N))\n",
    "b_symm = (b + b.T)/2"
   ]
  },
  {
   "cell_type": "markdown",
   "metadata": {
    "_uuid": "428183208acf9df58cd241a7cd0ede7e17baf3d1",
    "id": "kYmW375VJRiW"
   },
   "source": [
    "<a id=\"9\"></a> <br>\n",
    "## 9-The Trace\n",
    "Return the sum along diagonals of the array."
   ]
  },
  {
   "cell_type": "code",
   "execution_count": 102,
   "metadata": {
    "_kg_hide-input": true,
    "_uuid": "17f061ccf8620270700b566eea8e41b70f215960",
    "colab": {
     "base_uri": "https://localhost:8080/"
    },
    "id": "lXzyNZ4yJRiW",
    "outputId": "002e7f7c-ffc1-42b3-8a9c-aac2a828474a"
   },
   "outputs": [
    {
     "data": {
      "text/plain": [
       "3.0"
      ]
     },
     "execution_count": 102,
     "metadata": {},
     "output_type": "execute_result"
    }
   ],
   "source": [
    "np.trace(np.eye(3))"
   ]
  },
  {
   "cell_type": "code",
   "execution_count": 103,
   "metadata": {
    "_uuid": "03ec16794b2e1b2c5204eb5da7e03769fac509bf",
    "colab": {
     "base_uri": "https://localhost:8080/"
    },
    "id": "0EVG4PxIJRiW",
    "outputId": "ddb6f626-8605-408a-d778-06161ab977ec"
   },
   "outputs": [
    {
     "name": "stdout",
     "output_type": "stream",
     "text": [
      "2\n"
     ]
    }
   ],
   "source": [
    "print(np.trace(matrix1))"
   ]
  },
  {
   "cell_type": "code",
   "execution_count": 104,
   "metadata": {
    "_uuid": "e4c042172e851dc79b63674dba2751f3b742fff7",
    "colab": {
     "base_uri": "https://localhost:8080/"
    },
    "id": "BLcR9QlLJRiW",
    "outputId": "dc2c3aa4-9bd8-4c39-9598-f0ef72c2f580"
   },
   "outputs": [
    {
     "name": "stdout",
     "output_type": "stream",
     "text": [
      "1.0\n"
     ]
    }
   ],
   "source": [
    "det = np.linalg.det(matrix1)\n",
    "print(det)"
   ]
  },
  {
   "cell_type": "markdown",
   "metadata": {
    "_uuid": "0b5536a2d51d252ff8ed7c972f407c1669fac6ab",
    "id": "bjNupZHIJRiW"
   },
   "source": [
    "<a id=\"10\"></a> <br>\n",
    "# 10- Norms\n",
    "numpy.linalg.norm\n",
    "This function is able to return one of eight different matrix norms, or one of an infinite number of vector norms (described below), depending on the value of the ord parameter. [scipy](https://docs.scipy.org/doc/numpy-1.13.0/reference/generated/numpy.linalg.norm.html)\n",
    "\n",
    " <a id=\"top\"></a> <br>"
   ]
  },
  {
   "cell_type": "code",
   "execution_count": 105,
   "metadata": {
    "_uuid": "d8232fcb5a3b7ef9f9dab45d8d964046c584da11",
    "colab": {
     "base_uri": "https://localhost:8080/"
    },
    "id": "H7AJ664EJRiX",
    "outputId": "2d67e175-b691-4452-94ec-a258f4213904"
   },
   "outputs": [
    {
     "data": {
      "text/plain": [
       "array([1., 2., 3., 4.])"
      ]
     },
     "execution_count": 105,
     "metadata": {},
     "output_type": "execute_result"
    }
   ],
   "source": [
    "v = np.array([1,2,3,4])\n",
    "norm.median(v)"
   ]
  },
  {
   "cell_type": "markdown",
   "metadata": {
    "_uuid": "42d54d284146a24f5eeedffa8c53ed870359b08d",
    "id": "X1S9CdyVJRiX"
   },
   "source": [
    "<a id=\"11\"></a> <br>\n",
    "# 11- Linear Independence and Rank\n",
    "How to identify the linearly independent rows from a matrix?"
   ]
  },
  {
   "cell_type": "code",
   "execution_count": 106,
   "metadata": {
    "_uuid": "99bc735946faf655e15a2065eb81b0e1db9c8565",
    "colab": {
     "base_uri": "https://localhost:8080/"
    },
    "id": "axzmUeNiJRiX",
    "outputId": "926abb90-0c9f-4be6-a427-b2a957b02edf"
   },
   "outputs": [
    {
     "name": "stdout",
     "output_type": "stream",
     "text": [
      "[[0 1 1 0]]\n"
     ]
    }
   ],
   "source": [
    "#How to find linearly independent rows from a matrix\n",
    "matrix = np.array(\n",
    "    [\n",
    "        [0, 1 ,0 ,0],\n",
    "        [0, 0, 1, 0],\n",
    "        [0, 1, 1, 0],\n",
    "        [1, 0, 0, 1]\n",
    "    ])\n",
    "\n",
    "lambdas, V =  np.linalg.eig(matrix.T)\n",
    "# The linearly dependent row vectors\n",
    "print (matrix[lambdas == 0,:])"
   ]
  },
  {
   "cell_type": "markdown",
   "metadata": {
    "_uuid": "e3cf40ea16ea61ebd53a5b56d1ecccf3ebfeba50",
    "id": "oJrrRbV_JRiX"
   },
   "source": [
    "<a id=\"12\"></a> <br>\n",
    "# 12-  Subtraction and Addition of Metrices"
   ]
  },
  {
   "cell_type": "code",
   "execution_count": 107,
   "metadata": {
    "_kg_hide-input": true,
    "_uuid": "fa3526c6b6308ae79ab322ff12e6e21e45761e8a",
    "colab": {
     "base_uri": "https://localhost:8080/"
    },
    "id": "nM0hSVtvJRiX",
    "outputId": "cef5382f-a67b-4d9c-a492-28848dd5ecdd"
   },
   "outputs": [
    {
     "name": "stdout",
     "output_type": "stream",
     "text": [
      "np.arange(9): [0 1 2 3 4 5 6 7 8]\n",
      "np.arange(9, 18): [ 9 10 11 12 13 14 15 16 17]\n",
      "A: [[ 9 10 11]\n",
      " [12 13 14]\n",
      " [15 16 17]]\n",
      "B: [[0 1 2]\n",
      " [3 4 5]\n",
      " [6 7 8]]\n"
     ]
    }
   ],
   "source": [
    "import numpy as np\n",
    "print(\"np.arange(9):\", np.arange(9))\n",
    "print(\"np.arange(9, 18):\", np.arange(9, 18))\n",
    "A = np.arange(9, 18).reshape((3, 3))\n",
    "B = np.arange(9).reshape((3, 3))\n",
    "print(\"A:\", A)\n",
    "print(\"B:\", B)"
   ]
  },
  {
   "cell_type": "markdown",
   "metadata": {
    "_uuid": "2c2f223e42500cdc89887cf0c9c3a5bb2fd2497c",
    "id": "VjbVEaKhJRiX"
   },
   "source": [
    "We can now add and subtract the two matrices $A$ and $B$:"
   ]
  },
  {
   "cell_type": "code",
   "execution_count": 108,
   "metadata": {
    "_kg_hide-input": true,
    "_uuid": "3882778eea130a7cc3fd3e32d66177e6d5715223",
    "colab": {
     "base_uri": "https://localhost:8080/"
    },
    "id": "7QOzCUFEJRiX",
    "outputId": "189fc4ee-a6bd-4113-e964-e2581843985e"
   },
   "outputs": [
    {
     "data": {
      "text/plain": [
       "array([[ 9, 11, 13],\n",
       "       [15, 17, 19],\n",
       "       [21, 23, 25]])"
      ]
     },
     "execution_count": 108,
     "metadata": {},
     "output_type": "execute_result"
    }
   ],
   "source": [
    "A + B"
   ]
  },
  {
   "cell_type": "code",
   "execution_count": 109,
   "metadata": {
    "_kg_hide-input": true,
    "_uuid": "00e586d7bdee0508f12ec92f4742994813ce0f79",
    "colab": {
     "base_uri": "https://localhost:8080/"
    },
    "id": "yCRr7cD7JRiX",
    "outputId": "5afb66bb-b03b-4c61-deac-f8fd4bf249c6"
   },
   "outputs": [
    {
     "data": {
      "text/plain": [
       "array([[9, 9, 9],\n",
       "       [9, 9, 9],\n",
       "       [9, 9, 9]])"
      ]
     },
     "execution_count": 109,
     "metadata": {},
     "output_type": "execute_result"
    }
   ],
   "source": [
    "A - B"
   ]
  },
  {
   "cell_type": "markdown",
   "metadata": {
    "_uuid": "94127d106aa8e05925e99e5f6c0a70f2c860af39",
    "id": "4Q8Vdu-nJRiX"
   },
   "source": [
    "<a id=\"121\"></a> <br>\n",
    "## 12-1 Inverse\n",
    "We use numpy.linalg.inv() function to calculate the inverse of a matrix. The inverse of a matrix is such that if it is multiplied by the original matrix, it results in identity matrix.[tutorialspoint](https://www.tutorialspoint.com/numpy/numpy_inv.htm)"
   ]
  },
  {
   "cell_type": "code",
   "execution_count": 110,
   "metadata": {
    "_uuid": "4bf2c911607f01aa47a4188d8212a9c6abae1972",
    "colab": {
     "base_uri": "https://localhost:8080/"
    },
    "id": "KgxcZexyJRiX",
    "outputId": "95b59110-b9a4-4f63-fc64-c02579065513"
   },
   "outputs": [
    {
     "name": "stdout",
     "output_type": "stream",
     "text": [
      "[[1 2]\n",
      " [3 4]]\n",
      "[[-2.   1. ]\n",
      " [ 1.5 -0.5]]\n",
      "[[1. 0.]\n",
      " [0. 1.]]\n"
     ]
    }
   ],
   "source": [
    "x = np.array([[1,2],[3,4]])\n",
    "y = np.linalg.inv(x)\n",
    "print (x )\n",
    "print (y )\n",
    "print (np.dot(x,y))"
   ]
  },
  {
   "cell_type": "markdown",
   "metadata": {
    "_uuid": "6d67e21b6e3c3131310b7208bac880550e61ad03",
    "id": "3lccoQS9JRiX"
   },
   "source": [
    "<a id=\"13\"></a> <br>\n",
    "## 13- Orthogonal Matrices\n",
    "How to create random orthonormal matrix in python numpy"
   ]
  },
  {
   "cell_type": "code",
   "execution_count": 111,
   "metadata": {
    "_kg_hide-input": true,
    "_uuid": "fca71217a54595fb76f02e9044b3090ea75ffb80",
    "id": "3Oe4CcFnJRiX"
   },
   "outputs": [],
   "source": [
    "## based on https://stackoverflow.com/questions/38426349/how-to-create-random-orthonormal-matrix-in-python-numpy\n",
    "def rvs(dim=3):\n",
    "     random_state = np.random\n",
    "     H = np.eye(dim)\n",
    "     D = np.ones((dim,))\n",
    "     for n in range(1, dim):\n",
    "         x = random_state.normal(size=(dim-n+1,))\n",
    "         D[n-1] = np.sign(x[0])\n",
    "         x[0] -= D[n-1]*np.sqrt((x*x).sum())\n",
    "         # Householder transformation\n",
    "         Hx = (np.eye(dim-n+1) - 2.*np.outer(x, x)/(x*x).sum())\n",
    "         mat = np.eye(dim)\n",
    "         mat[n-1:, n-1:] = Hx\n",
    "         H = np.dot(H, mat)\n",
    "         # Fix the last sign such that the determinant is 1\n",
    "     D[-1] = (-1)**(1-(dim % 2))*D.prod()\n",
    "     # Equivalent to np.dot(np.diag(D), H) but faster, apparently\n",
    "     H = (D*H.T).T\n",
    "     return H"
   ]
  },
  {
   "cell_type": "markdown",
   "metadata": {
    "_uuid": "84a7cc36920151c3166ad9036173a975077a816e",
    "id": "xXPgd2__JRiX"
   },
   "source": [
    "<a id=\"14\"></a> <br>\n",
    "## 14- Range and Nullspace of a Matrix"
   ]
  },
  {
   "cell_type": "code",
   "execution_count": 112,
   "metadata": {
    "_uuid": "dfc7ff00eea809bf00d3dacc6b3a5db13562c7a6",
    "colab": {
     "base_uri": "https://localhost:8080/"
    },
    "id": "GgY1P5ucJRiY",
    "outputId": "4bd6137c-9feb-431a-843a-979bcf3f5886"
   },
   "outputs": [
    {
     "data": {
      "text/plain": [
       "array([[ 0.7071],\n",
       "       [-0.7071]])"
      ]
     },
     "execution_count": 112,
     "metadata": {},
     "output_type": "execute_result"
    }
   ],
   "source": [
    "from scipy.linalg import null_space\n",
    "A = np.array([[1, 1], [1, 1]])\n",
    "ns = null_space(A)\n",
    "ns * np.sign(ns[0,0])  # Remove the sign ambiguity of the vector"
   ]
  },
  {
   "cell_type": "markdown",
   "metadata": {
    "_uuid": "5168e46a20736d3815f9ac3590ab129b732bee12",
    "id": "1Gl54ON2JRiY"
   },
   "source": [
    "<a id=\"15\"></a> <br>\n",
    "# 15-  Determinant\n",
    "Compute the determinant of an array"
   ]
  },
  {
   "cell_type": "code",
   "execution_count": 113,
   "metadata": {
    "_uuid": "94b4e5d5a484fa851174e8a610c9c91dad83c37a",
    "colab": {
     "base_uri": "https://localhost:8080/"
    },
    "id": "GIpM_Xd4JRiY",
    "outputId": "06b59371-2d10-42ab-d0d3-3c0aaca935cf"
   },
   "outputs": [
    {
     "data": {
      "text/plain": [
       "-2.0000000000000004"
      ]
     },
     "execution_count": 113,
     "metadata": {},
     "output_type": "execute_result"
    }
   ],
   "source": [
    "a = np.array([[1, 2], [3, 4]])\n",
    "np.linalg.det(a)"
   ]
  }
 ],
 "metadata": {
  "colab": {
   "provenance": []
  },
  "kernelspec": {
   "display_name": "Python 3 (ipykernel)",
   "language": "python",
   "name": "python3"
  },
  "language_info": {
   "codemirror_mode": {
    "name": "ipython",
    "version": 3
   },
   "file_extension": ".py",
   "mimetype": "text/x-python",
   "name": "python",
   "nbconvert_exporter": "python",
   "pygments_lexer": "ipython3",
   "version": "3.11.3"
  }
 },
 "nbformat": 4,
 "nbformat_minor": 4
}
