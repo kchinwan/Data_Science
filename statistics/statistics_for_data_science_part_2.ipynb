{
  "metadata": {
    "kernelspec": {
      "language": "python",
      "display_name": "Python 3",
      "name": "python3"
    },
    "language_info": {
      "pygments_lexer": "ipython3",
      "nbconvert_exporter": "python",
      "version": "3.6.4",
      "file_extension": ".py",
      "codemirror_mode": {
        "name": "ipython",
        "version": 3
      },
      "name": "python",
      "mimetype": "text/x-python"
    },
    "colab": {
      "provenance": []
    }
  },
  "nbformat_minor": 0,
  "nbformat": 4,
  "cells": [
    {
      "cell_type": "markdown",
      "source": [
        "# TABLE OF CONTENTS:\n",
        "\n",
        "#### 1. HYPOTHESIS TESTING USING P-VALUE\n",
        "* **TYPE-1 / TYPE-2 ERROR**\n",
        "* **CONFIDENCE INTERVAL**\n",
        "\n",
        "#### 2. CHI-SQUARE TEST\n",
        "#### 3. ANOVA TEST"
      ],
      "metadata": {
        "id": "4pmCnUB6T9kV"
      }
    },
    {
      "cell_type": "markdown",
      "source": [
        "-----------------------------------------------------------"
      ],
      "metadata": {
        "id": "RorcW-oET9kV"
      }
    },
    {
      "cell_type": "markdown",
      "source": [
        "## **1. HYPOTHESIS TESTING:**\n",
        "\n",
        "\n",
        "* Hypothesis testing is one of the most important topics in statistics.Based on hypothesis testing big business decisions can be taken in the company. So a good understanding of this topic will help you a lot to take a right business decision in the industry"
      ],
      "metadata": {
        "id": "IuHeWq0hT9kV"
      }
    },
    {
      "cell_type": "markdown",
      "source": [
        "### WHAT IS HYPOTHESIS ?\n",
        "* A hypothesis is an Assumption about something in the world around you. It should be testable, either by experiment or observation.\n",
        "* For example:\n",
        "    1. A new medicine you think might work.\n",
        "    2. A way of teaching you think might be better.\n",
        "    3. A possible location of new species.\n",
        "    4. A fairer way to administer standardized tests.\n",
        "\n",
        "### WHAT IS HYPOTHESIS TESTING ?\n",
        "* Hypothesis testing in statistics is a way for you to test the results of a survey or experiment to see if you have meaningful results. You’re basically testing whether your results are valid by figuring out the odds that your results have happened by chance.\n",
        "\n",
        "\n",
        "### TYPES OF HYPOTHESIS:\n",
        "\n",
        "### NULL HYPOTHESIS\n",
        "* The null hypothesis is the hypothesis to be tested for possible rejection under the assumption that it is true.\n",
        "* It is denoted by H0.\n",
        "\n",
        "### ALTERNATE HYPOTHESIS\n",
        "* The alternative hypothesis complements the Null hypothesis. It is the opposite of the null hypothesis.\n",
        "* It is denoted by H1 or HA.\n",
        "\n",
        "### EXAMPLE:\n",
        "\n",
        "A pharmacy company claims that Covid Vaccine is 93% accurate to get cured from Corona. To test the claim of this company we will formulate the null and alternate hypothesis.\n",
        "\n",
        "NULL HYPOTHESIS - Average = 93%\n",
        "ALTERNATE  - Average is not equal to 99%.\n",
        "\n",
        "**NOTE** : When we test a hypothesis, we assume the null hypothesis to be true until there is sufficient evidence in the sample to prove it false. In that case, we reject the null hypothesis and support the alternate hypothesis. If the sample fails to provide sufficient evidence for us to reject the null hypothesis, we cannot say that the null hypothesis is true because it is based on just the sample data. For saying the null hypothesis is true we will have to study the whole population data.\n"
      ],
      "metadata": {
        "id": "cnpkWjqFT9kV"
      }
    },
    {
      "cell_type": "markdown",
      "source": [
        "--------------------------------------------"
      ],
      "metadata": {
        "id": "xFKseNppT9kW"
      }
    },
    {
      "cell_type": "markdown",
      "source": [
        "## **HYPOTHESIS TESTING USING P - VALUES**\n",
        "\n",
        "* Hypothesis testing is a statistical method which is used to make decision about entire population, with the help of only sample data. To make this decision, we come up with a value called as **p-value.**\n",
        "\n",
        "#### **There are FOUR STEPS in using the P-value approach to conducting any hypothesis test:**\n",
        "**STEP-1**: Specify the Null and Alternative Hypothesis.\n",
        "\n",
        "![](https://miro.medium.com/max/638/1*Y_MFazuCip95ppdZhUEutw.png)\n",
        "\n",
        "**STEP-2**: Determine the Significance Level (Alpha):\n",
        "        The significance level is a probability of rejecting the null hypothesis when it is actually true.         It is denoted by alpha ( α ). It is determined before conducting the experiment.\n",
        "        \n",
        "* In many statistical analyses, we observe something written as — “ with a 95% confidence interval”. This statement, actually tells us about the significance level, such that,\n",
        " **Confidence Interval = 1 — Significance Level**\n",
        "        \n",
        "* so, here “95% confidence interval” tells us that Significance Level is 0.05.\n",
        "       \n",
        "**STEP-3**: Calculate P value & Make Decision:\n",
        "            \n",
        "* The p-value is a probability of observing the results of the Null Hypothesis. The significance level is the target value, which should be achieved if we want to retain the Null Hypothesis.\n",
        "\n",
        "![](https://miro.medium.com/max/465/1*hWEYOt9zq731nQ7D_6hPXg.png)\n",
        "\n",
        "* Hence, as long as the p-value is less than the significance level, we must reject the null hypothesis. Lower p-value means, the population or the entire data has strong evidence against the null hypothesis.\n",
        "\n",
        "* The p-value is calculated based on the sample data. It evaluates how well the sample data support the null hypothesis. Hence, a higher p-value, indicates that the sampled data is really supporting the null hypothesis. In other words, there is no enough evidence in sampled data to reject the null hypothesis.\n",
        "\n",
        "#### **NOTE**:\n",
        "* As we are observing the sampled data, we might make mistakes while making the decision to retain or reject the null hypothesis. These wrong decisions are translated into something called **ERRORS.**\n",
        "\n",
        "\n"
      ],
      "metadata": {
        "id": "G1IC0mg2T9kW"
      }
    },
    {
      "cell_type": "markdown",
      "source": [
        "## **TYPE-1 & TYPE-2 ERRORS**"
      ],
      "metadata": {
        "id": "Y3numDgQT9kW"
      }
    },
    {
      "cell_type": "markdown",
      "source": [
        "![](https://www.simplypsychology.org/type-1-and-2-errors.jpg)\n",
        "\n",
        "#### TYPE-1 ERROR:\n",
        "* This error occurs when the decision to reject the null hypothesis goes wrong. In this error, the alternative hypothesis H₁ is chosen, when the null hypothesis H₀ is true. This is also called False Positive.\n",
        "* Type I error is often denoted by alpha α i.e. significance level. alpha α is the threshold for the percentage of Type I errors we are willing to commit.\n",
        "* α= P [rejecting H0 when H0 is true]\n",
        "\n",
        "#### TYPE-2 ERROR:\n",
        "* This error occurs when the decision to retain the null hypothesis goes wrong. In this error, the null hypothesis H0 is chosen, when the alternative hypothesis H1 is true. This is also called False Negative.\n",
        "* β = P [not rejecting H0 when h1 is true]\n",
        "\n",
        "#### EXAMPLE:\n",
        "\n",
        "* Person is arrested on the charge of being guilty of burglary. A jury of judges has to decide guilty or not guilty.H0: Person is innocentH1: Person is guilty.\n",
        "\n",
        "* **Type I error** will be if the Jury convicts the person [rejects H0] although the person was innocent [H0 is true].\n",
        "* **Type II error** will be the case when Jury released the person [Do not reject H0] although the person is guilty [H1 is true].\n",
        "\n",
        "\n",
        "\n",
        "\n",
        "\n"
      ],
      "metadata": {
        "id": "T4j3lOz8T9kW"
      }
    },
    {
      "cell_type": "markdown",
      "source": [
        "#### **PYTHON CODE** EXAMPLE -1"
      ],
      "metadata": {
        "id": "NpaAJ1iiT9kX"
      }
    },
    {
      "cell_type": "code",
      "source": [
        "ages=[10,20,35,50,28,40,55,18,16,55,30,25,43,18,30,28,14,24,16,17,32,35,26,27,65,18,43,23,21,20,19,70]\n",
        "\n",
        "\n",
        "import numpy as np\n",
        "ages_mean=np.mean(ages)\n",
        "print(ages_mean)\n",
        "\n"
      ],
      "metadata": {
        "trusted": true,
        "colab": {
          "base_uri": "https://localhost:8080/"
        },
        "id": "JfpWMCaxT9kX",
        "outputId": "b5b77de3-44ea-4828-95f5-9a0a98f961e5"
      },
      "execution_count": 1,
      "outputs": [
        {
          "output_type": "stream",
          "name": "stdout",
          "text": [
            "30.34375\n"
          ]
        }
      ]
    },
    {
      "cell_type": "code",
      "source": [
        "\n",
        "## Lets take sample\n",
        "\n",
        "sample_size=10\n",
        "age_sample=np.random.choice(ages,sample_size)\n",
        "age_sample"
      ],
      "metadata": {
        "trusted": true,
        "colab": {
          "base_uri": "https://localhost:8080/"
        },
        "id": "38m_1-XeT9kX",
        "outputId": "36744436-95d5-4979-b389-9bc59d90227a"
      },
      "execution_count": 2,
      "outputs": [
        {
          "output_type": "execute_result",
          "data": {
            "text/plain": [
              "array([24, 50, 18, 10, 28, 20, 65, 16, 19, 43])"
            ]
          },
          "metadata": {},
          "execution_count": 2
        }
      ]
    },
    {
      "cell_type": "code",
      "source": [
        "from scipy.stats import ttest_1samp\n",
        "\n",
        "ttest,p_value=ttest_1samp(age_sample,30)\n",
        "\n",
        "print(p_value)"
      ],
      "metadata": {
        "trusted": true,
        "colab": {
          "base_uri": "https://localhost:8080/"
        },
        "id": "dkT_sPWBT9kX",
        "outputId": "c5e037a7-c18e-4292-d40c-7848a8b0cfac"
      },
      "execution_count": 3,
      "outputs": [
        {
          "output_type": "stream",
          "name": "stdout",
          "text": [
            "0.9027160554855096\n"
          ]
        }
      ]
    },
    {
      "cell_type": "code",
      "source": [
        "if p_value < 0.05:    # alpha value is 0.05 or 5%\n",
        "    print(\" we are rejecting null hypothesis\")\n",
        "else:\n",
        "    print(\"we are accepting null hypothesis\")"
      ],
      "metadata": {
        "trusted": true,
        "colab": {
          "base_uri": "https://localhost:8080/"
        },
        "id": "-Icm4RnsT9kX",
        "outputId": "f01805f6-ac7d-4f4e-a58a-0fede94e8259"
      },
      "execution_count": 4,
      "outputs": [
        {
          "output_type": "stream",
          "name": "stdout",
          "text": [
            "we are accepting null hypothesis\n"
          ]
        }
      ]
    },
    {
      "cell_type": "markdown",
      "source": [
        "#### **PYTHON CODE** EXAMPLE-2"
      ],
      "metadata": {
        "id": "noFx0hPJT9kX"
      }
    },
    {
      "cell_type": "code",
      "source": [
        "\n",
        "import numpy as np\n",
        "import pandas as pd\n",
        "import scipy.stats as stats\n",
        "import math\n",
        "np.random.seed(6)\n",
        "school_ages=stats.poisson.rvs(loc=18,mu=35,size=1500)\n",
        "classA_ages=stats.poisson.rvs(loc=18,mu=30,size=60)"
      ],
      "metadata": {
        "trusted": true,
        "id": "5tq5TT-rT9kX"
      },
      "execution_count": 5,
      "outputs": []
    },
    {
      "cell_type": "code",
      "source": [
        "\n",
        "_,p_value=stats.ttest_1samp(a=classA_ages,popmean=school_ages.mean())\n",
        "\n",
        "if p_value < 0.05:    # alpha value is 0.05 or 5%\n",
        "    print(\" we are rejecting null hypothesis\")\n",
        "else:\n",
        "    print(\"we are accepting null hypothesis\")"
      ],
      "metadata": {
        "trusted": true,
        "colab": {
          "base_uri": "https://localhost:8080/"
        },
        "id": "xZahs5GNT9kX",
        "outputId": "303cbd19-a5df-4c38-e1c2-290f0b0d5f0d"
      },
      "execution_count": 6,
      "outputs": [
        {
          "output_type": "stream",
          "name": "stdout",
          "text": [
            " we are rejecting null hypothesis\n"
          ]
        }
      ]
    },
    {
      "cell_type": "markdown",
      "source": [
        "--------------------------------"
      ],
      "metadata": {
        "id": "bGfvgMWuT9kX"
      }
    },
    {
      "cell_type": "markdown",
      "source": [
        "## **CONFIDENCE INTERVAL**\n",
        "\n",
        "* A confidence interval, in statistics, refers to the probability that a population parameter will fall between a set of values for a certain proportion of times.\n",
        "* Confidence intervals measure the degree of uncertainty or certainty in a sampling method.\n",
        "* A confidence interval can take any number of probabilities, with the most common being a 95% or 99% confidence level.\n",
        "\n",
        "* The Confidence Interval is based on Mean and Standard Deviation and is given as: **Confidence interval = X ± (z * s/√n)**\n",
        "* where z critical value is derived from the z score table based on the confidence level.\n",
        "  X is the sample mean.\n",
        "  s is sample standard deviation.\n",
        "  n is the sample size\n",
        "  \n",
        "![](https://uploads-cdn.omnicalculator.com/images/confidence_interval/confidence_interval_95.png)\n",
        "\n",
        "\n",
        "\n",
        "\n",
        "\n",
        "#### EXAMPLE:\n",
        "\n",
        "In the survey of Americans’ and Brits’ television watching habits, we can use the sample mean, sample standard deviation, and sample size in place of the population mean, population standard deviation, and population size.\n",
        "To calculate the 95% confidence interval, we can simply plug the values into the formula.\n",
        "\n",
        "**For the USA:**\n",
        "\n",
        "![](https://cdn.scribbr.com/wp-content/uploads/2020/08/calculating-the-confidence-interval-example.png)\n",
        "\n",
        "So for the USA, the lower and upper bounds of the 95% confidence interval are 34.02 and 35.98\n",
        "\n",
        "\n",
        "**For GB:**\n",
        "\n",
        "![](https://cdn.scribbr.com/wp-content/uploads/2020/08/calculating-the-confidence-interval-example-2-1.png)\n",
        "\n",
        "So for the GB, the lower and upper bounds of the 95% confidence interval are 33.04 and 36.96."
      ],
      "metadata": {
        "id": "GkXQHwoVT9kX"
      }
    },
    {
      "cell_type": "markdown",
      "source": [
        "-------------------"
      ],
      "metadata": {
        "id": "woCXKSq-T9kX"
      }
    },
    {
      "cell_type": "markdown",
      "source": [
        "## **CHI-2 TEST**\n",
        "\n",
        "**A Chi-Square test is a test of statistical significance for categorical variables.**\n",
        "\n",
        "* Chi-square test in hypothesis testing is used to test the hypothesis about the distribution of observations/frequencies in different categories.\n",
        "\n",
        "**FORMULA**\n",
        "\n",
        "![](https://cdn.analyticsvidhya.com/wp-content/uploads/2019/05/34.png)\n",
        "\n",
        "**Assumptions of the Chi-Square Test:**\n",
        "\n",
        "Just like any other statistical test, the chi-square test comes with a few assumptions of its own:\n",
        "\n",
        "* The χ2 assumes that the data for the study is obtained through random selection, i.e. they are randomly picked from the population\n",
        "* The categories are mutually exclusive i.e. each subject fits in only one category. For e.g.- from our above example – the number of people who lunched in your restaurant on Monday can’t be filled in the Tuesday category\n",
        "* The data should be in the form of frequencies or counts of a particular category and not in percentages\n",
        "* The data should not consist of paired samples or groups or we can say the observations should be independent of each other\n",
        "* When more than 20% of the expected frequencies have a value of less than 5 then Chi-square cannot be used.  To tackle this problem: Either one should combine the categories only if it is relevant or obtain more data\n",
        "\n",
        "There are two types of chi-square tests. Both use the chi-square statistic and distribution for different purposes:\n",
        "\n",
        "* A chi-square goodness of fit test determines if sample data matches a population. For more details on this type, see: Goodness of Fit Test.\n",
        "\n",
        "* A chi-square test for independence compares two variables in a contingency table to see if they are related. In a more general sense, it tests to see whether distributions of categorical variables differ from each another.\n",
        "        \n",
        "        A very small chi square test statistic means that your observed data fits your expected data extremely well. In other words, there is a relationship.\n",
        "        \n",
        "        A very large chi square test statistic means that the data does not fit very well. In other words, there isn’t a relationship.\n",
        "        \n",
        "\n",
        "        \n"
      ],
      "metadata": {
        "id": "t_zWlIcjT9kX"
      }
    },
    {
      "cell_type": "markdown",
      "source": [
        "### **PYTHON CODE**"
      ],
      "metadata": {
        "id": "YRsWV-0oT9kY"
      }
    },
    {
      "cell_type": "code",
      "source": [
        "import scipy.stats as stats\n",
        "import seaborn as sns\n",
        "import pandas as pd\n",
        "import numpy as np\n",
        "dataset=sns.load_dataset('tips')"
      ],
      "metadata": {
        "trusted": true,
        "id": "Se9YPRF9T9kY"
      },
      "execution_count": 7,
      "outputs": []
    },
    {
      "cell_type": "code",
      "source": [
        "dataset.head()"
      ],
      "metadata": {
        "trusted": true,
        "colab": {
          "base_uri": "https://localhost:8080/",
          "height": 206
        },
        "id": "59Rb0ZeuT9kY",
        "outputId": "574f08ac-78a4-4c2c-a7b7-27bd69467701"
      },
      "execution_count": 8,
      "outputs": [
        {
          "output_type": "execute_result",
          "data": {
            "text/plain": [
              "   total_bill   tip     sex smoker  day    time  size\n",
              "0       16.99  1.01  Female     No  Sun  Dinner     2\n",
              "1       10.34  1.66    Male     No  Sun  Dinner     3\n",
              "2       21.01  3.50    Male     No  Sun  Dinner     3\n",
              "3       23.68  3.31    Male     No  Sun  Dinner     2\n",
              "4       24.59  3.61  Female     No  Sun  Dinner     4"
            ],
            "text/html": [
              "\n",
              "  <div id=\"df-125cf650-90e6-4a3b-b102-97067fb3fb4e\" class=\"colab-df-container\">\n",
              "    <div>\n",
              "<style scoped>\n",
              "    .dataframe tbody tr th:only-of-type {\n",
              "        vertical-align: middle;\n",
              "    }\n",
              "\n",
              "    .dataframe tbody tr th {\n",
              "        vertical-align: top;\n",
              "    }\n",
              "\n",
              "    .dataframe thead th {\n",
              "        text-align: right;\n",
              "    }\n",
              "</style>\n",
              "<table border=\"1\" class=\"dataframe\">\n",
              "  <thead>\n",
              "    <tr style=\"text-align: right;\">\n",
              "      <th></th>\n",
              "      <th>total_bill</th>\n",
              "      <th>tip</th>\n",
              "      <th>sex</th>\n",
              "      <th>smoker</th>\n",
              "      <th>day</th>\n",
              "      <th>time</th>\n",
              "      <th>size</th>\n",
              "    </tr>\n",
              "  </thead>\n",
              "  <tbody>\n",
              "    <tr>\n",
              "      <th>0</th>\n",
              "      <td>16.99</td>\n",
              "      <td>1.01</td>\n",
              "      <td>Female</td>\n",
              "      <td>No</td>\n",
              "      <td>Sun</td>\n",
              "      <td>Dinner</td>\n",
              "      <td>2</td>\n",
              "    </tr>\n",
              "    <tr>\n",
              "      <th>1</th>\n",
              "      <td>10.34</td>\n",
              "      <td>1.66</td>\n",
              "      <td>Male</td>\n",
              "      <td>No</td>\n",
              "      <td>Sun</td>\n",
              "      <td>Dinner</td>\n",
              "      <td>3</td>\n",
              "    </tr>\n",
              "    <tr>\n",
              "      <th>2</th>\n",
              "      <td>21.01</td>\n",
              "      <td>3.50</td>\n",
              "      <td>Male</td>\n",
              "      <td>No</td>\n",
              "      <td>Sun</td>\n",
              "      <td>Dinner</td>\n",
              "      <td>3</td>\n",
              "    </tr>\n",
              "    <tr>\n",
              "      <th>3</th>\n",
              "      <td>23.68</td>\n",
              "      <td>3.31</td>\n",
              "      <td>Male</td>\n",
              "      <td>No</td>\n",
              "      <td>Sun</td>\n",
              "      <td>Dinner</td>\n",
              "      <td>2</td>\n",
              "    </tr>\n",
              "    <tr>\n",
              "      <th>4</th>\n",
              "      <td>24.59</td>\n",
              "      <td>3.61</td>\n",
              "      <td>Female</td>\n",
              "      <td>No</td>\n",
              "      <td>Sun</td>\n",
              "      <td>Dinner</td>\n",
              "      <td>4</td>\n",
              "    </tr>\n",
              "  </tbody>\n",
              "</table>\n",
              "</div>\n",
              "    <div class=\"colab-df-buttons\">\n",
              "\n",
              "  <div class=\"colab-df-container\">\n",
              "    <button class=\"colab-df-convert\" onclick=\"convertToInteractive('df-125cf650-90e6-4a3b-b102-97067fb3fb4e')\"\n",
              "            title=\"Convert this dataframe to an interactive table.\"\n",
              "            style=\"display:none;\">\n",
              "\n",
              "  <svg xmlns=\"http://www.w3.org/2000/svg\" height=\"24px\" viewBox=\"0 -960 960 960\">\n",
              "    <path d=\"M120-120v-720h720v720H120Zm60-500h600v-160H180v160Zm220 220h160v-160H400v160Zm0 220h160v-160H400v160ZM180-400h160v-160H180v160Zm440 0h160v-160H620v160ZM180-180h160v-160H180v160Zm440 0h160v-160H620v160Z\"/>\n",
              "  </svg>\n",
              "    </button>\n",
              "\n",
              "  <style>\n",
              "    .colab-df-container {\n",
              "      display:flex;\n",
              "      gap: 12px;\n",
              "    }\n",
              "\n",
              "    .colab-df-convert {\n",
              "      background-color: #E8F0FE;\n",
              "      border: none;\n",
              "      border-radius: 50%;\n",
              "      cursor: pointer;\n",
              "      display: none;\n",
              "      fill: #1967D2;\n",
              "      height: 32px;\n",
              "      padding: 0 0 0 0;\n",
              "      width: 32px;\n",
              "    }\n",
              "\n",
              "    .colab-df-convert:hover {\n",
              "      background-color: #E2EBFA;\n",
              "      box-shadow: 0px 1px 2px rgba(60, 64, 67, 0.3), 0px 1px 3px 1px rgba(60, 64, 67, 0.15);\n",
              "      fill: #174EA6;\n",
              "    }\n",
              "\n",
              "    .colab-df-buttons div {\n",
              "      margin-bottom: 4px;\n",
              "    }\n",
              "\n",
              "    [theme=dark] .colab-df-convert {\n",
              "      background-color: #3B4455;\n",
              "      fill: #D2E3FC;\n",
              "    }\n",
              "\n",
              "    [theme=dark] .colab-df-convert:hover {\n",
              "      background-color: #434B5C;\n",
              "      box-shadow: 0px 1px 3px 1px rgba(0, 0, 0, 0.15);\n",
              "      filter: drop-shadow(0px 1px 2px rgba(0, 0, 0, 0.3));\n",
              "      fill: #FFFFFF;\n",
              "    }\n",
              "  </style>\n",
              "\n",
              "    <script>\n",
              "      const buttonEl =\n",
              "        document.querySelector('#df-125cf650-90e6-4a3b-b102-97067fb3fb4e button.colab-df-convert');\n",
              "      buttonEl.style.display =\n",
              "        google.colab.kernel.accessAllowed ? 'block' : 'none';\n",
              "\n",
              "      async function convertToInteractive(key) {\n",
              "        const element = document.querySelector('#df-125cf650-90e6-4a3b-b102-97067fb3fb4e');\n",
              "        const dataTable =\n",
              "          await google.colab.kernel.invokeFunction('convertToInteractive',\n",
              "                                                    [key], {});\n",
              "        if (!dataTable) return;\n",
              "\n",
              "        const docLinkHtml = 'Like what you see? Visit the ' +\n",
              "          '<a target=\"_blank\" href=https://colab.research.google.com/notebooks/data_table.ipynb>data table notebook</a>'\n",
              "          + ' to learn more about interactive tables.';\n",
              "        element.innerHTML = '';\n",
              "        dataTable['output_type'] = 'display_data';\n",
              "        await google.colab.output.renderOutput(dataTable, element);\n",
              "        const docLink = document.createElement('div');\n",
              "        docLink.innerHTML = docLinkHtml;\n",
              "        element.appendChild(docLink);\n",
              "      }\n",
              "    </script>\n",
              "  </div>\n",
              "\n",
              "\n",
              "<div id=\"df-abacf437-af2a-4822-a364-2de60eff0ed1\">\n",
              "  <button class=\"colab-df-quickchart\" onclick=\"quickchart('df-abacf437-af2a-4822-a364-2de60eff0ed1')\"\n",
              "            title=\"Suggest charts.\"\n",
              "            style=\"display:none;\">\n",
              "\n",
              "<svg xmlns=\"http://www.w3.org/2000/svg\" height=\"24px\"viewBox=\"0 0 24 24\"\n",
              "     width=\"24px\">\n",
              "    <g>\n",
              "        <path d=\"M19 3H5c-1.1 0-2 .9-2 2v14c0 1.1.9 2 2 2h14c1.1 0 2-.9 2-2V5c0-1.1-.9-2-2-2zM9 17H7v-7h2v7zm4 0h-2V7h2v10zm4 0h-2v-4h2v4z\"/>\n",
              "    </g>\n",
              "</svg>\n",
              "  </button>\n",
              "\n",
              "<style>\n",
              "  .colab-df-quickchart {\n",
              "      --bg-color: #E8F0FE;\n",
              "      --fill-color: #1967D2;\n",
              "      --hover-bg-color: #E2EBFA;\n",
              "      --hover-fill-color: #174EA6;\n",
              "      --disabled-fill-color: #AAA;\n",
              "      --disabled-bg-color: #DDD;\n",
              "  }\n",
              "\n",
              "  [theme=dark] .colab-df-quickchart {\n",
              "      --bg-color: #3B4455;\n",
              "      --fill-color: #D2E3FC;\n",
              "      --hover-bg-color: #434B5C;\n",
              "      --hover-fill-color: #FFFFFF;\n",
              "      --disabled-bg-color: #3B4455;\n",
              "      --disabled-fill-color: #666;\n",
              "  }\n",
              "\n",
              "  .colab-df-quickchart {\n",
              "    background-color: var(--bg-color);\n",
              "    border: none;\n",
              "    border-radius: 50%;\n",
              "    cursor: pointer;\n",
              "    display: none;\n",
              "    fill: var(--fill-color);\n",
              "    height: 32px;\n",
              "    padding: 0;\n",
              "    width: 32px;\n",
              "  }\n",
              "\n",
              "  .colab-df-quickchart:hover {\n",
              "    background-color: var(--hover-bg-color);\n",
              "    box-shadow: 0 1px 2px rgba(60, 64, 67, 0.3), 0 1px 3px 1px rgba(60, 64, 67, 0.15);\n",
              "    fill: var(--button-hover-fill-color);\n",
              "  }\n",
              "\n",
              "  .colab-df-quickchart-complete:disabled,\n",
              "  .colab-df-quickchart-complete:disabled:hover {\n",
              "    background-color: var(--disabled-bg-color);\n",
              "    fill: var(--disabled-fill-color);\n",
              "    box-shadow: none;\n",
              "  }\n",
              "\n",
              "  .colab-df-spinner {\n",
              "    border: 2px solid var(--fill-color);\n",
              "    border-color: transparent;\n",
              "    border-bottom-color: var(--fill-color);\n",
              "    animation:\n",
              "      spin 1s steps(1) infinite;\n",
              "  }\n",
              "\n",
              "  @keyframes spin {\n",
              "    0% {\n",
              "      border-color: transparent;\n",
              "      border-bottom-color: var(--fill-color);\n",
              "      border-left-color: var(--fill-color);\n",
              "    }\n",
              "    20% {\n",
              "      border-color: transparent;\n",
              "      border-left-color: var(--fill-color);\n",
              "      border-top-color: var(--fill-color);\n",
              "    }\n",
              "    30% {\n",
              "      border-color: transparent;\n",
              "      border-left-color: var(--fill-color);\n",
              "      border-top-color: var(--fill-color);\n",
              "      border-right-color: var(--fill-color);\n",
              "    }\n",
              "    40% {\n",
              "      border-color: transparent;\n",
              "      border-right-color: var(--fill-color);\n",
              "      border-top-color: var(--fill-color);\n",
              "    }\n",
              "    60% {\n",
              "      border-color: transparent;\n",
              "      border-right-color: var(--fill-color);\n",
              "    }\n",
              "    80% {\n",
              "      border-color: transparent;\n",
              "      border-right-color: var(--fill-color);\n",
              "      border-bottom-color: var(--fill-color);\n",
              "    }\n",
              "    90% {\n",
              "      border-color: transparent;\n",
              "      border-bottom-color: var(--fill-color);\n",
              "    }\n",
              "  }\n",
              "</style>\n",
              "\n",
              "  <script>\n",
              "    async function quickchart(key) {\n",
              "      const quickchartButtonEl =\n",
              "        document.querySelector('#' + key + ' button');\n",
              "      quickchartButtonEl.disabled = true;  // To prevent multiple clicks.\n",
              "      quickchartButtonEl.classList.add('colab-df-spinner');\n",
              "      try {\n",
              "        const charts = await google.colab.kernel.invokeFunction(\n",
              "            'suggestCharts', [key], {});\n",
              "      } catch (error) {\n",
              "        console.error('Error during call to suggestCharts:', error);\n",
              "      }\n",
              "      quickchartButtonEl.classList.remove('colab-df-spinner');\n",
              "      quickchartButtonEl.classList.add('colab-df-quickchart-complete');\n",
              "    }\n",
              "    (() => {\n",
              "      let quickchartButtonEl =\n",
              "        document.querySelector('#df-abacf437-af2a-4822-a364-2de60eff0ed1 button');\n",
              "      quickchartButtonEl.style.display =\n",
              "        google.colab.kernel.accessAllowed ? 'block' : 'none';\n",
              "    })();\n",
              "  </script>\n",
              "</div>\n",
              "    </div>\n",
              "  </div>\n"
            ]
          },
          "metadata": {},
          "execution_count": 8
        }
      ]
    },
    {
      "cell_type": "code",
      "source": [
        "\n",
        "dataset_table=pd.crosstab(dataset['sex'],dataset['smoker'])\n",
        "print(dataset_table)"
      ],
      "metadata": {
        "trusted": true,
        "colab": {
          "base_uri": "https://localhost:8080/"
        },
        "id": "-Iwox4qaT9kY",
        "outputId": "177e795a-a78e-42a7-d0b0-7083571c0f3c"
      },
      "execution_count": 9,
      "outputs": [
        {
          "output_type": "stream",
          "name": "stdout",
          "text": [
            "smoker  Yes  No\n",
            "sex            \n",
            "Male     60  97\n",
            "Female   33  54\n"
          ]
        }
      ]
    },
    {
      "cell_type": "code",
      "source": [
        "dataset_table.values"
      ],
      "metadata": {
        "trusted": true,
        "colab": {
          "base_uri": "https://localhost:8080/"
        },
        "id": "k7Ekzx3qT9kY",
        "outputId": "85069994-0f44-4287-a6f8-d3e9b3d77bc4"
      },
      "execution_count": 10,
      "outputs": [
        {
          "output_type": "execute_result",
          "data": {
            "text/plain": [
              "array([[60, 97],\n",
              "       [33, 54]])"
            ]
          },
          "metadata": {},
          "execution_count": 10
        }
      ]
    },
    {
      "cell_type": "code",
      "source": [
        "#Observed Values\n",
        "Observed_Values = dataset_table.values\n",
        "print(\"Observed Values :-\\n\",Observed_Values)"
      ],
      "metadata": {
        "trusted": true,
        "colab": {
          "base_uri": "https://localhost:8080/"
        },
        "id": "OxPPE9VJT9kY",
        "outputId": "518ffc49-7886-42aa-ac40-5e13eb947706"
      },
      "execution_count": 11,
      "outputs": [
        {
          "output_type": "stream",
          "name": "stdout",
          "text": [
            "Observed Values :-\n",
            " [[60 97]\n",
            " [33 54]]\n"
          ]
        }
      ]
    },
    {
      "cell_type": "code",
      "source": [
        "val=stats.chi2_contingency(dataset_table)"
      ],
      "metadata": {
        "trusted": true,
        "id": "YZQsvS-iT9kY"
      },
      "execution_count": 12,
      "outputs": []
    },
    {
      "cell_type": "code",
      "source": [
        "Expected_Values=val[3]"
      ],
      "metadata": {
        "trusted": true,
        "id": "ZJzBk0X0T9kY"
      },
      "execution_count": 13,
      "outputs": []
    },
    {
      "cell_type": "code",
      "source": [
        "no_of_rows=len(dataset_table.iloc[0:2,0])\n",
        "no_of_columns=len(dataset_table.iloc[0,0:2])\n",
        "ddof=(no_of_rows-1)*(no_of_columns-1)\n",
        "print(\"Degree of Freedom:-\",ddof)\n",
        "alpha = 0.05"
      ],
      "metadata": {
        "trusted": true,
        "colab": {
          "base_uri": "https://localhost:8080/"
        },
        "id": "N8lyuFbvT9kY",
        "outputId": "403413f6-cd5d-4334-de22-4ae13ac38586"
      },
      "execution_count": 14,
      "outputs": [
        {
          "output_type": "stream",
          "name": "stdout",
          "text": [
            "Degree of Freedom:- 1\n"
          ]
        }
      ]
    },
    {
      "cell_type": "code",
      "source": [
        "from scipy.stats import chi2\n",
        "chi_square=sum([(o-e)**2./e for o,e in zip(Observed_Values,Expected_Values)])\n",
        "chi_square_statistic=chi_square[0]+chi_square[1]"
      ],
      "metadata": {
        "trusted": true,
        "id": "-_TF-4gtT9kY"
      },
      "execution_count": 15,
      "outputs": []
    },
    {
      "cell_type": "code",
      "source": [
        "print(\"chi-square statistic:-\",chi_square_statistic)"
      ],
      "metadata": {
        "trusted": true,
        "colab": {
          "base_uri": "https://localhost:8080/"
        },
        "id": "v-hDzBAIT9kY",
        "outputId": "a444dcbf-cd17-4426-ef90-3061a5b2998a"
      },
      "execution_count": 16,
      "outputs": [
        {
          "output_type": "stream",
          "name": "stdout",
          "text": [
            "chi-square statistic:- 0.001934818536627623\n"
          ]
        }
      ]
    },
    {
      "cell_type": "code",
      "source": [
        "\n",
        "critical_value=chi2.ppf(q=1-alpha,df=ddof)\n",
        "print('critical_value:',critical_value)"
      ],
      "metadata": {
        "trusted": true,
        "colab": {
          "base_uri": "https://localhost:8080/"
        },
        "id": "HPDN468zT9kY",
        "outputId": "aa38178f-3ae1-43a6-b2fb-a0a62e09e599"
      },
      "execution_count": 17,
      "outputs": [
        {
          "output_type": "stream",
          "name": "stdout",
          "text": [
            "critical_value: 3.841458820694124\n"
          ]
        }
      ]
    },
    {
      "cell_type": "code",
      "source": [
        "#p-value\n",
        "p_value=1-chi2.cdf(x=chi_square_statistic,df=ddof)\n",
        "print('p-value:',p_value)\n",
        "print('Significance level: ',alpha)\n",
        "print('Degree of Freedom: ',ddof)\n",
        "print('p-value:',p_value)"
      ],
      "metadata": {
        "trusted": true,
        "colab": {
          "base_uri": "https://localhost:8080/"
        },
        "id": "S8UP5K4XT9kY",
        "outputId": "0496c71b-2fad-4746-875b-958006367cab"
      },
      "execution_count": 18,
      "outputs": [
        {
          "output_type": "stream",
          "name": "stdout",
          "text": [
            "p-value: 0.964915107315732\n",
            "Significance level:  0.05\n",
            "Degree of Freedom:  1\n",
            "p-value: 0.964915107315732\n"
          ]
        }
      ]
    },
    {
      "cell_type": "code",
      "source": [
        "if chi_square_statistic>=critical_value:\n",
        "    print(\"Reject H0,There is a relationship between 2 categorical variables\")\n",
        "else:\n",
        "    print(\"Retain H0,There is no relationship between 2 categorical variables\")\n",
        "\n",
        "if p_value<=alpha:\n",
        "    print(\"Reject H0,There is a relationship between 2 categorical variables\")\n",
        "else:\n",
        "    print(\"Retain H0,There is no relationship between 2 categorical variables\")"
      ],
      "metadata": {
        "trusted": true,
        "colab": {
          "base_uri": "https://localhost:8080/"
        },
        "id": "jDMN6FI-T9kY",
        "outputId": "fb38e604-6a5d-429d-bafc-5dccb992ee1c"
      },
      "execution_count": 19,
      "outputs": [
        {
          "output_type": "stream",
          "name": "stdout",
          "text": [
            "Retain H0,There is no relationship between 2 categorical variables\n",
            "Retain H0,There is no relationship between 2 categorical variables\n"
          ]
        }
      ]
    },
    {
      "cell_type": "markdown",
      "source": [
        "--------"
      ],
      "metadata": {
        "id": "FTAhA2TYT9kY"
      }
    },
    {
      "cell_type": "markdown",
      "source": [
        "## **ANOVA TEST (Analysis of Variance)**\n",
        "\n",
        "* t is a parametric statistical technique that is used to compare datasets.   \n",
        "* R.A. Fisher is the person who invented this technique. It is also referred to as Fisher’s NOVA.\n",
        "\n",
        "**Assumptions to use ANOVA**  \n",
        "\n",
        "* The independence of a case assumption means that the sample should be selected randomly. There should be no pattern in the selection of the sample.\n",
        "\n",
        "* Normality: Distribution of each group should be normal. Kolmogorov-Smirnov or the Shapiro-Wilk test may be used to confirm the normality of the group.\n",
        "\n",
        "* Homogeneity means between the group; the variance must be the same. To test the correlation between groups, Levene’s test is used.\n",
        "\n",
        "**TYPES OF ANOVA**\n",
        "\n",
        "### ONE WAY ANOVA TEST:\n",
        "\n",
        "* One-way ANOVA is generally the most used method of performing the ANOVA test. It is also referred to as one-factor ANOVA, between-subjects ANOVA, and an independent factor ANOVA. It is used to compare the means of two independent groups using the F-distribution.\n",
        "\n",
        "* Two carry out the one-way ANOVA test, you should necessarily have only one independent variable with at least two levels. One-way ANOVA does not differ much from t-test.\n",
        "\n",
        "#### EXAMPLE:\n",
        "\n",
        "* Suppose a teacher wants to know how good he has been in teaching with the students. So, he can split the students of the class into different groups and assign different projects related to the topics taught to them.\n",
        "* He can use one-way ANOVA to compare the average score of each group. He can get a rough understanding of topics to teach again. However, he won’t be able to identify the student who could not understand the topic.\n",
        "\n",
        "### TWO WAY ANOVA TEST:\n",
        "\n",
        "Two-way ANOVA is carried out when you have two independent variables. It is an extension of one-way ANOVA. You can use the two-way ANOVA test when your experiment has a quantitative outcome and there are two independent variables.\n",
        "\n",
        "**Two-way ANOVA is performed in two ways:**\n",
        "\n",
        "* **Two-way ANOVA with replication**: It is performed when there are two groups and the members of these groups are doing more than one thing. Our example in the beginning can be a good example of two-way ANOVA with replication.\n",
        "\n",
        "* **Two-way ANOVA without replication**: This is used when you have only one group but you are double-testing that group. For example, a patient is being observed before and after medication\n",
        "\n",
        "**Assumptions for Two-way ANOVA**\n",
        "\n",
        "* The population must be close to a normal distribution.\n",
        "* Samples must be independent.\n",
        "* Population variances must be equal.\n",
        "* Groups must have equal sample sizes.\n"
      ],
      "metadata": {
        "id": "V-QOyl4CT9kY"
      }
    },
    {
      "cell_type": "markdown",
      "source": [
        "------------------"
      ],
      "metadata": {
        "id": "R1CoUYxBT9kY"
      }
    }
  ]
}